{
 "cells": [
  {
   "cell_type": "code",
   "execution_count": 27,
   "metadata": {},
   "outputs": [],
   "source": [
    "import os\n",
    "import csv\n",
    "import re\n",
    "import json\n",
    "from datetime import datetime\n",
    "import seaborn as sns"
   ]
  },
  {
   "cell_type": "code",
   "execution_count": 28,
   "metadata": {},
   "outputs": [],
   "source": [
    "import numpy as np\n",
    "import keras\n",
    "from keras import backend as K\n",
    "from keras.models import Sequential\n",
    "from keras.models import Model\n",
    "from keras.layers import Activation\n",
    "from keras.layers import Dense, Flatten\n",
    "from keras.optimizers import Adam\n",
    "from keras.metrics import categorical_crossentropy\n",
    "from tensorflow.keras.preprocessing.image import ImageDataGenerator\n",
    "from tensorflow.keras.layers import BatchNormalization\n",
    "from tensorflow.keras.layers import Dropout\n",
    "from tensorflow.keras.layers import *\n",
    "from keras.callbacks import ModelCheckpoint\n",
    "from tensorflow.keras.applications.inception_v3 import InceptionV3\n",
    "from tensorflow.keras.applications.efficientnet import EfficientNetB7\n",
    "from tensorflow.keras.applications.inception_v3 import preprocess_input\n",
    "from tensorflow.keras.applications.inception_v3 import decode_predictions\n",
    "from sklearn.metrics import confusion_matrix\n",
    "from sklearn.metrics import average_precision_score\n",
    "from sklearn.metrics import recall_score\n",
    "from sklearn.metrics import precision_score\n",
    "from sklearn.metrics import accuracy_score\n",
    "from sklearn.metrics import classification_report\n",
    "from keras.models import model_from_json\n",
    "import itertools\n",
    "import matplotlib.pyplot as plt\n",
    "import time\n",
    "import pandas as pd\n",
    "%matplotlib inline"
   ]
  },
  {
   "cell_type": "code",
   "execution_count": 29,
   "metadata": {},
   "outputs": [],
   "source": [
    "from sklearn.model_selection import train_test_split\n",
    "import tensorflow as tf\n",
    "from tensorflow.keras.models import Sequential\n",
    "from tensorflow.keras.layers import Dense"
   ]
  },
  {
   "cell_type": "code",
   "execution_count": 30,
   "metadata": {},
   "outputs": [],
   "source": [
    "clean_dataDirectory = \"data/results/cleaned_data.csv\"\n",
    "standard_dataDirectory = \"data/results/standardized_data.csv\"\n",
    "data = pd.read_csv(standard_dataDirectory)\n",
    "# print(data.head(5))\n",
    "data = data.dropna()"
   ]
  },
  {
   "cell_type": "code",
   "execution_count": 31,
   "metadata": {},
   "outputs": [
    {
     "data": {
      "text/plain": [
       "0         4\n",
       "1         6\n",
       "2         3\n",
       "3        20\n",
       "4         4\n",
       "         ..\n",
       "14605     6\n",
       "14606     4\n",
       "14607    10\n",
       "14608    10\n",
       "14609     6\n",
       "Name: num_bedrooms, Length: 14601, dtype: int64"
      ]
     },
     "execution_count": 31,
     "metadata": {},
     "output_type": "execute_result"
    }
   ],
   "source": [
    "collum_list = data['num_bedrooms'][data['num_bedrooms'] >= 0]\n",
    "# print(collum_list.mean())\n",
    "data['num_bedrooms'] = data['num_bedrooms'].apply(lambda x: int(collum_list.mean()) if x < 0 else x)\n",
    "data['num_bedrooms']"
   ]
  },
  {
   "cell_type": "code",
   "execution_count": 32,
   "metadata": {},
   "outputs": [
    {
     "data": {
      "text/plain": [
       "0         4\n",
       "1         4\n",
       "2         4\n",
       "3        21\n",
       "4         5\n",
       "         ..\n",
       "14605     6\n",
       "14606     3\n",
       "14607     9\n",
       "14608     4\n",
       "14609     6\n",
       "Name: num_bathrooms, Length: 14601, dtype: int64"
      ]
     },
     "execution_count": 32,
     "metadata": {},
     "output_type": "execute_result"
    }
   ],
   "source": [
    "collum_list = data['num_bathrooms'][data['num_bathrooms'] >= 0]\n",
    "# print(collum_list.mean())\n",
    "data['num_bathrooms'] = data['num_bathrooms'].apply(lambda x: int(collum_list.mean()) if x < 0 else x)\n",
    "data['num_bathrooms']"
   ]
  },
  {
   "cell_type": "code",
   "execution_count": 33,
   "metadata": {},
   "outputs": [
    {
     "data": {
      "text/plain": [
       "0        8\n",
       "1        5\n",
       "2        5\n",
       "3        9\n",
       "4        5\n",
       "        ..\n",
       "14605    6\n",
       "14606    4\n",
       "14607    6\n",
       "14608    7\n",
       "14609    5\n",
       "Name: num_floors, Length: 14601, dtype: int64"
      ]
     },
     "execution_count": 33,
     "metadata": {},
     "output_type": "execute_result"
    }
   ],
   "source": [
    "collum_list = data['num_floors'][data['num_floors'] >= 0]\n",
    "# print(collum_list.mean())\n",
    "data['num_floors'] = data['num_floors'].apply(lambda x: int(collum_list.mean()) if x < 0 else x)\n",
    "data['num_floors']"
   ]
  },
  {
   "cell_type": "code",
   "execution_count": 34,
   "metadata": {},
   "outputs": [
    {
     "data": {
      "text/plain": [
       "0         6.0\n",
       "1         6.0\n",
       "2         6.0\n",
       "3         6.0\n",
       "4         4.0\n",
       "         ... \n",
       "14605     5.0\n",
       "14606     3.0\n",
       "14607     2.0\n",
       "14608    40.0\n",
       "14609     8.0\n",
       "Name: entrance, Length: 14601, dtype: float64"
      ]
     },
     "execution_count": 34,
     "metadata": {},
     "output_type": "execute_result"
    }
   ],
   "source": [
    "collum_list = data['entrance'][data['entrance'] >= 0]\n",
    "# print(collum_list.mean())\n",
    "data['entrance'] = data['entrance'].apply(lambda x: int(collum_list.mean()) if x < 0 else x)\n",
    "data['entrance']"
   ]
  },
  {
   "cell_type": "code",
   "execution_count": 35,
   "metadata": {},
   "outputs": [
    {
     "data": {
      "text/plain": [
       "0         5.4\n",
       "1         5.0\n",
       "2         5.0\n",
       "3         5.0\n",
       "4         3.4\n",
       "         ... \n",
       "14605     3.8\n",
       "14606     5.5\n",
       "14607     3.5\n",
       "14608    15.0\n",
       "14609     5.2\n",
       "Name: frontage, Length: 14601, dtype: float64"
      ]
     },
     "execution_count": 35,
     "metadata": {},
     "output_type": "execute_result"
    }
   ],
   "source": [
    "collum_list = data['frontage'][data['frontage'] >= 0]\n",
    "# print(collum_list.mean())\n",
    "data['frontage'] = data['frontage'].apply(lambda x: int(collum_list.mean()) if x < 0 else x)\n",
    "data['frontage']"
   ]
  },
  {
   "cell_type": "code",
   "execution_count": 36,
   "metadata": {},
   "outputs": [
    {
     "data": {
      "image/png": "[encoded data removed]",
      "text/plain": [
       "<Figure size 500x500 with 1 Axes>"
      ]
     },
     "metadata": {},
     "output_type": "display_data"
    }
   ],
   "source": [
    "sns.displot(np.log(data['price']))\n",
    "data['log_price'] = np.log(data['price'])"
   ]
  },
  {
   "cell_type": "code",
   "execution_count": 37,
   "metadata": {},
   "outputs": [],
   "source": [
    "clean_train_data = data.drop(['price', 'price_per_sqm', 'log_price', 'pr_id', 'posted_date'], axis=1)\n",
    "clean_train_label = data['price']\n",
    "train_data, test_data, train_label, test_label = train_test_split(clean_train_data, clean_train_label, test_size=0.2, random_state=42)"
   ]
  },
  {
   "cell_type": "code",
   "execution_count": 56,
   "metadata": {},
   "outputs": [
    {
     "name": "stdout",
     "output_type": "stream",
     "text": [
      "Epoch 1/100\n"
     ]
    },
    {
     "name": "stderr",
     "output_type": "stream",
     "text": [
      "d:\\anaconda3\\envs\\ML\\lib\\site-packages\\keras\\src\\layers\\core\\dense.py:87: UserWarning: Do not pass an `input_shape`/`input_dim` argument to a layer. When using Sequential models, prefer using an `Input(shape)` object as the first layer in the model instead.\n",
      "  super().__init__(activity_regularizer=activity_regularizer, **kwargs)\n"
     ]
    },
    {
     "name": "stdout",
     "output_type": "stream",
     "text": [
      "\u001b[1m292/292\u001b[0m \u001b[32m━━━━━━━━━━━━━━━━━━━━\u001b[0m\u001b[37m\u001b[0m \u001b[1m1s\u001b[0m 1ms/step - loss: 2057840051571050676224.0000 - val_loss: 2430981717309670817792.0000\n",
      "Epoch 2/100\n",
      "\u001b[1m292/292\u001b[0m \u001b[32m━━━━━━━━━━━━━━━━━━━━\u001b[0m\u001b[37m\u001b[0m \u001b[1m0s\u001b[0m 974us/step - loss: 2306153757587982516224.0000 - val_loss: 2430980591409763975168.0000\n",
      "Epoch 3/100\n",
      "\u001b[1m292/292\u001b[0m \u001b[32m━━━━━━━━━━━━━━━━━━━━\u001b[0m\u001b[37m\u001b[0m \u001b[1m0s\u001b[0m 939us/step - loss: 2023260991419634941952.0000 - val_loss: 2430979184034880421888.0000\n",
      "Epoch 4/100\n",
      "\u001b[1m292/292\u001b[0m \u001b[32m━━━━━━━━━━━━━━━━━━━━\u001b[0m\u001b[37m\u001b[0m \u001b[1m0s\u001b[0m 969us/step - loss: 2010336927126476816384.0000 - val_loss: 2430976369285113315328.0000\n",
      "Epoch 5/100\n",
      "\u001b[1m292/292\u001b[0m \u001b[32m━━━━━━━━━━━━━━━━━━━━\u001b[0m\u001b[37m\u001b[0m \u001b[1m0s\u001b[0m 1ms/step - loss: 1949503429259862999040.0000 - val_loss: 2430973554535346208768.0000\n",
      "Epoch 6/100\n",
      "\u001b[1m292/292\u001b[0m \u001b[32m━━━━━━━━━━━━━━━━━━━━\u001b[0m\u001b[37m\u001b[0m \u001b[1m0s\u001b[0m 915us/step - loss: 2115720173244527935488.0000 - val_loss: 2430969050935718838272.0000\n",
      "Epoch 7/100\n",
      "\u001b[1m292/292\u001b[0m \u001b[32m━━━━━━━━━━━━━━━━━━━━\u001b[0m\u001b[37m\u001b[0m \u001b[1m0s\u001b[0m 953us/step - loss: 2216992336590231568384.0000 - val_loss: 2430963984386138046464.0000\n",
      "Epoch 8/100\n",
      "\u001b[1m292/292\u001b[0m \u001b[32m━━━━━━━━━━━━━━━━━━━━\u001b[0m\u001b[37m\u001b[0m \u001b[1m0s\u001b[0m 949us/step - loss: 2533681240262274187264.0000 - val_loss: 2430956103086790148096.0000\n",
      "Epoch 9/100\n",
      "\u001b[1m292/292\u001b[0m \u001b[32m━━━━━━━━━━━━━━━━━━━━\u001b[0m\u001b[37m\u001b[0m \u001b[1m0s\u001b[0m 931us/step - loss: 2203422287225522487296.0000 - val_loss: 2430947658837488828416.0000\n",
      "Epoch 10/100\n",
      "\u001b[1m292/292\u001b[0m \u001b[32m━━━━━━━━━━━━━━━━━━━━\u001b[0m\u001b[37m\u001b[0m \u001b[1m0s\u001b[0m 948us/step - loss: 2317776703801295634432.0000 - val_loss: 2430936399838420402176.0000\n",
      "Epoch 11/100\n",
      "\u001b[1m292/292\u001b[0m \u001b[32m━━━━━━━━━━━━━━━━━━━━\u001b[0m\u001b[37m\u001b[0m \u001b[1m0s\u001b[0m 937us/step - loss: 2240652278707599179776.0000 - val_loss: 2430924296414421843968.0000\n",
      "Epoch 12/100\n",
      "\u001b[1m292/292\u001b[0m \u001b[32m━━━━━━━━━━━━━━━━━━━━\u001b[0m\u001b[37m\u001b[0m \u001b[1m0s\u001b[0m 940us/step - loss: 2229737523535690072064.0000 - val_loss: 2430911348565493153792.0000\n",
      "Epoch 13/100\n",
      "\u001b[1m292/292\u001b[0m \u001b[32m━━━━━━━━━━━━━━━━━━━━\u001b[0m\u001b[37m\u001b[0m \u001b[1m0s\u001b[0m 962us/step - loss: 2174498340831200542720.0000 - val_loss: 2430894460066890514432.0000\n",
      "Epoch 14/100\n",
      "\u001b[1m292/292\u001b[0m \u001b[32m━━━━━━━━━━━━━━━━━━━━\u001b[0m\u001b[37m\u001b[0m \u001b[1m0s\u001b[0m 1ms/step - loss: 1986993503620420337664.0000 - val_loss: 2430875038293497479168.0000\n",
      "Epoch 15/100\n",
      "\u001b[1m292/292\u001b[0m \u001b[32m━━━━━━━━━━━━━━━━━━━━\u001b[0m\u001b[37m\u001b[0m \u001b[1m0s\u001b[0m 916us/step - loss: 2199500777849989627904.0000 - val_loss: 2430853646195267469312.0000\n",
      "Epoch 16/100\n",
      "\u001b[1m292/292\u001b[0m \u001b[32m━━━━━━━━━━━━━━━━━━━━\u001b[0m\u001b[37m\u001b[0m \u001b[1m0s\u001b[0m 943us/step - loss: 3060171177000301494272.0000 - val_loss: 2430828876397316931584.0000\n",
      "Epoch 17/100\n",
      "\u001b[1m292/292\u001b[0m \u001b[32m━━━━━━━━━━━━━━━━━━━━\u001b[0m\u001b[37m\u001b[0m \u001b[1m0s\u001b[0m 1ms/step - loss: 2278907402054856081408.0000 - val_loss: 2430804669549319815168.0000\n",
      "Epoch 18/100\n",
      "\u001b[1m292/292\u001b[0m \u001b[32m━━━━━━━━━━━━━━━━━━━━\u001b[0m\u001b[37m\u001b[0m \u001b[1m0s\u001b[0m 962us/step - loss: 2301924173850439843840.0000 - val_loss: 2430776522051648749568.0000\n",
      "Epoch 19/100\n",
      "\u001b[1m292/292\u001b[0m \u001b[32m━━━━━━━━━━━━━━━━━━━━\u001b[0m\u001b[37m\u001b[0m \u001b[1m0s\u001b[0m 968us/step - loss: 2077274772813014630400.0000 - val_loss: 2430745841279187288064.0000\n",
      "Epoch 20/100\n",
      "\u001b[1m292/292\u001b[0m \u001b[32m━━━━━━━━━━━━━━━━━━━━\u001b[0m\u001b[37m\u001b[0m \u001b[1m0s\u001b[0m 935us/step - loss: 2047790691215038480384.0000 - val_loss: 2430714034606818983936.0000\n",
      "Epoch 21/100\n",
      "\u001b[1m292/292\u001b[0m \u001b[32m━━━━━━━━━━━━━━━━━━━━\u001b[0m\u001b[37m\u001b[0m \u001b[1m0s\u001b[0m 934us/step - loss: 2172788661822660018176.0000 - val_loss: 2430679694659660283904.0000\n",
      "Epoch 22/100\n",
      "\u001b[1m292/292\u001b[0m \u001b[32m━━━━━━━━━━━━━━━━━━━━\u001b[0m\u001b[37m\u001b[0m \u001b[1m0s\u001b[0m 1ms/step - loss: 2021537379399747239936.0000 - val_loss: 2430644228812594741248.0000\n",
      "Epoch 23/100\n",
      "\u001b[1m292/292\u001b[0m \u001b[32m━━━━━━━━━━━━━━━━━━━━\u001b[0m\u001b[37m\u001b[0m \u001b[1m0s\u001b[0m 915us/step - loss: 2620070132739425173504.0000 - val_loss: 2430600881666181300224.0000\n",
      "Epoch 24/100\n",
      "\u001b[1m292/292\u001b[0m \u001b[32m━━━━━━━━━━━━━━━━━━━━\u001b[0m\u001b[37m\u001b[0m \u001b[1m0s\u001b[0m 942us/step - loss: 2190051944356789616640.0000 - val_loss: 2430555845669907595264.0000\n",
      "Epoch 25/100\n",
      "\u001b[1m292/292\u001b[0m \u001b[32m━━━━━━━━━━━━━━━━━━━━\u001b[0m\u001b[37m\u001b[0m \u001b[1m0s\u001b[0m 935us/step - loss: 2381648442566524272640.0000 - val_loss: 2430511654098564022272.0000\n",
      "Epoch 26/100\n",
      "\u001b[1m292/292\u001b[0m \u001b[32m━━━━━━━━━━━━━━━━━━━━\u001b[0m\u001b[37m\u001b[0m \u001b[1m0s\u001b[0m 936us/step - loss: 2144779086890182639616.0000 - val_loss: 2430462677452616368128.0000\n",
      "Epoch 27/100\n",
      "\u001b[1m292/292\u001b[0m \u001b[32m━━━━━━━━━━━━━━━━━━━━\u001b[0m\u001b[37m\u001b[0m \u001b[1m0s\u001b[0m 931us/step - loss: 2328013948704262193152.0000 - val_loss: 2430410604581924896768.0000\n",
      "Epoch 28/100\n",
      "\u001b[1m292/292\u001b[0m \u001b[32m━━━━━━━━━━━━━━━━━━━━\u001b[0m\u001b[37m\u001b[0m \u001b[1m0s\u001b[0m 937us/step - loss: 2293683290219793612800.0000 - val_loss: 2430352057786769080320.0000\n",
      "Epoch 29/100\n",
      "\u001b[1m292/292\u001b[0m \u001b[32m━━━━━━━━━━━━━━━━━━━━\u001b[0m\u001b[37m\u001b[0m \u001b[1m0s\u001b[0m 965us/step - loss: 2030456336249289441280.0000 - val_loss: 2430291540666776289280.0000\n",
      "Epoch 30/100\n",
      "\u001b[1m292/292\u001b[0m \u001b[32m━━━━━━━━━━━━━━━━━━━━\u001b[0m\u001b[37m\u001b[0m \u001b[1m0s\u001b[0m 1ms/step - loss: 2197106129485623721984.0000 - val_loss: 2430230460596830076928.0000\n",
      "Epoch 31/100\n",
      "\u001b[1m292/292\u001b[0m \u001b[32m━━━━━━━━━━━━━━━━━━━━\u001b[0m\u001b[37m\u001b[0m \u001b[1m0s\u001b[0m 918us/step - loss: 2105466321317935448064.0000 - val_loss: 2430163751027349651456.0000\n",
      "Epoch 32/100\n",
      "\u001b[1m292/292\u001b[0m \u001b[32m━━━━━━━━━━━━━━━━━━━━\u001b[0m\u001b[37m\u001b[0m \u001b[1m0s\u001b[0m 932us/step - loss: 2308690410078098948096.0000 - val_loss: 2430095634082985672704.0000\n",
      "Epoch 33/100\n",
      "\u001b[1m292/292\u001b[0m \u001b[32m━━━━━━━━━━━━━━━━━━━━\u001b[0m\u001b[37m\u001b[0m \u001b[1m0s\u001b[0m 932us/step - loss: 1915078054445731282944.0000 - val_loss: 2430025828288761430016.0000\n",
      "Epoch 34/100\n",
      "\u001b[1m292/292\u001b[0m \u001b[32m━━━━━━━━━━━━━━━━━━━━\u001b[0m\u001b[37m\u001b[0m \u001b[1m0s\u001b[0m 1ms/step - loss: 2182563443338890969088.0000 - val_loss: 2429948985620119420928.0000\n",
      "Epoch 35/100\n",
      "\u001b[1m292/292\u001b[0m \u001b[32m━━━━━━━━━━━━━━━━━━━━\u001b[0m\u001b[37m\u001b[0m \u001b[1m0s\u001b[0m 968us/step - loss: 2151790628560045080576.0000 - val_loss: 2429865106077059645440.0000\n",
      "Epoch 36/100\n",
      "\u001b[1m292/292\u001b[0m \u001b[32m━━━━━━━━━━━━━━━━━━━━\u001b[0m\u001b[37m\u001b[0m \u001b[1m0s\u001b[0m 982us/step - loss: 2050445140982908321792.0000 - val_loss: 2429780382109069737984.0000\n",
      "Epoch 37/100\n",
      "\u001b[1m292/292\u001b[0m \u001b[32m━━━━━━━━━━━━━━━━━━━━\u001b[0m\u001b[37m\u001b[0m \u001b[1m0s\u001b[0m 946us/step - loss: 2652941906419602423808.0000 - val_loss: 2429692280441359302656.0000\n",
      "Epoch 38/100\n",
      "\u001b[1m292/292\u001b[0m \u001b[32m━━━━━━━━━━━━━━━━━━━━\u001b[0m\u001b[37m\u001b[0m \u001b[1m0s\u001b[0m 1ms/step - loss: 2377706666992668246016.0000 - val_loss: 2429603052873742024704.0000\n",
      "Epoch 39/100\n",
      "\u001b[1m292/292\u001b[0m \u001b[32m━━━━━━━━━━━━━━━━━━━━\u001b[0m\u001b[37m\u001b[0m \u001b[1m0s\u001b[0m 919us/step - loss: 2259702082918911311872.0000 - val_loss: 2429508195806590533632.0000\n",
      "Epoch 40/100\n",
      "\u001b[1m292/292\u001b[0m \u001b[32m━━━━━━━━━━━━━━━━━━━━\u001b[0m\u001b[37m\u001b[0m \u001b[1m0s\u001b[0m 946us/step - loss: 1935381970415777742848.0000 - val_loss: 2429403205640277458944.0000\n",
      "Epoch 41/100\n",
      "\u001b[1m292/292\u001b[0m \u001b[32m━━━━━━━━━━━━━━━━━━━━\u001b[0m\u001b[37m\u001b[0m \u001b[1m0s\u001b[0m 955us/step - loss: 2206668960344391548928.0000 - val_loss: 2429304407923452018688.0000\n",
      "Epoch 42/100\n",
      "\u001b[1m292/292\u001b[0m \u001b[32m━━━━━━━━━━━━━━━━━━━━\u001b[0m\u001b[37m\u001b[0m \u001b[1m0s\u001b[0m 960us/step - loss: 2964288133558700081152.0000 - val_loss: 2429194632682534862848.0000\n",
      "Epoch 43/100\n",
      "\u001b[1m292/292\u001b[0m \u001b[32m━━━━━━━━━━━━━━━━━━━━\u001b[0m\u001b[37m\u001b[0m \u001b[1m0s\u001b[0m 944us/step - loss: 2285872781828537974784.0000 - val_loss: 2429082605641804021760.0000\n",
      "Epoch 44/100\n",
      "\u001b[1m292/292\u001b[0m \u001b[32m━━━━━━━━━━━━━━━━━━━━\u001b[0m\u001b[37m\u001b[0m \u001b[1m0s\u001b[0m 935us/step - loss: 2139843000961096220672.0000 - val_loss: 2428959038127028043776.0000\n",
      "Epoch 45/100\n",
      "\u001b[1m292/292\u001b[0m \u001b[32m━━━━━━━━━━━━━━━━━━━━\u001b[0m\u001b[37m\u001b[0m \u001b[1m0s\u001b[0m 952us/step - loss: 2430645354712501583872.0000 - val_loss: 2428834063237368512512.0000\n",
      "Epoch 46/100\n",
      "\u001b[1m292/292\u001b[0m \u001b[32m━━━━━━━━━━━━━━━━━━━━\u001b[0m\u001b[37m\u001b[0m \u001b[1m0s\u001b[0m 1ms/step - loss: 2155161291406155186176.0000 - val_loss: 2428703740323151478784.0000\n",
      "Epoch 47/100\n",
      "\u001b[1m292/292\u001b[0m \u001b[32m━━━━━━━━━━━━━━━━━━━━\u001b[0m\u001b[37m\u001b[0m \u001b[1m0s\u001b[0m 910us/step - loss: 2134558871223307075584.0000 - val_loss: 2428580735758328922112.0000\n",
      "Epoch 48/100\n",
      "\u001b[1m292/292\u001b[0m \u001b[32m━━━━━━━━━━━━━━━━━━━━\u001b[0m\u001b[37m\u001b[0m \u001b[1m0s\u001b[0m 929us/step - loss: 2450793896495403761664.0000 - val_loss: 2428445346294531096576.0000\n",
      "Epoch 49/100\n",
      "\u001b[1m292/292\u001b[0m \u001b[32m━━━━━━━━━━━━━━━━━━━━\u001b[0m\u001b[37m\u001b[0m \u001b[1m0s\u001b[0m 939us/step - loss: 2274084187591430635520.0000 - val_loss: 2428310801255663403008.0000\n",
      "Epoch 50/100\n",
      "\u001b[1m292/292\u001b[0m \u001b[32m━━━━━━━━━━━━━━━━━━━━\u001b[0m\u001b[37m\u001b[0m \u001b[1m0s\u001b[0m 939us/step - loss: 2390737832514464776192.0000 - val_loss: 2428157397393356095488.0000\n",
      "Epoch 51/100\n",
      "\u001b[1m292/292\u001b[0m \u001b[32m━━━━━━━━━━━━━━━━━━━━\u001b[0m\u001b[37m\u001b[0m \u001b[1m0s\u001b[0m 982us/step - loss: 2187403264825942343680.0000 - val_loss: 2428011030405466554368.0000\n",
      "Epoch 52/100\n",
      "\u001b[1m292/292\u001b[0m \u001b[32m━━━━━━━━━━━━━━━━━━━━\u001b[0m\u001b[37m\u001b[0m \u001b[1m0s\u001b[0m 971us/step - loss: 2035949883369751314432.0000 - val_loss: 2427859315393019510784.0000\n",
      "Epoch 53/100\n",
      "\u001b[1m292/292\u001b[0m \u001b[32m━━━━━━━━━━━━━━━━━━━━\u001b[0m\u001b[37m\u001b[0m \u001b[1m0s\u001b[0m 934us/step - loss: 2341064113786986692608.0000 - val_loss: 2427694652531643777024.0000\n",
      "Epoch 54/100\n",
      "\u001b[1m292/292\u001b[0m \u001b[32m━━━━━━━━━━━━━━━━━━━━\u001b[0m\u001b[37m\u001b[0m \u001b[1m0s\u001b[0m 1ms/step - loss: 2110488116377430261760.0000 - val_loss: 2427530834095198175232.0000\n",
      "Epoch 55/100\n",
      "\u001b[1m292/292\u001b[0m \u001b[32m━━━━━━━━━━━━━━━━━━━━\u001b[0m\u001b[37m\u001b[0m \u001b[1m0s\u001b[0m 932us/step - loss: 1965369188534624190464.0000 - val_loss: 2427351253060056776704.0000\n",
      "Epoch 56/100\n",
      "\u001b[1m292/292\u001b[0m \u001b[32m━━━━━━━━━━━━━━━━━━━━\u001b[0m\u001b[37m\u001b[0m \u001b[1m0s\u001b[0m 979us/step - loss: 2023524029785371049984.0000 - val_loss: 2427178427424356433920.0000\n",
      "Epoch 57/100\n",
      "\u001b[1m292/292\u001b[0m \u001b[32m━━━━━━━━━━━━━━━━━━━━\u001b[0m\u001b[37m\u001b[0m \u001b[1m0s\u001b[0m 948us/step - loss: 2443546478795057790976.0000 - val_loss: 2426990965089867137024.0000\n",
      "Epoch 58/100\n",
      "\u001b[1m292/292\u001b[0m \u001b[32m━━━━━━━━━━━━━━━━━━━━\u001b[0m\u001b[37m\u001b[0m \u001b[1m0s\u001b[0m 937us/step - loss: 2197574785321846964224.0000 - val_loss: 2426806317505144946688.0000\n",
      "Epoch 59/100\n",
      "\u001b[1m292/292\u001b[0m \u001b[32m━━━━━━━━━━━━━━━━━━━━\u001b[0m\u001b[37m\u001b[0m \u001b[1m0s\u001b[0m 942us/step - loss: 2111907453947493744640.0000 - val_loss: 2426620544020515913728.0000\n",
      "Epoch 60/100\n",
      "\u001b[1m292/292\u001b[0m \u001b[32m━━━━━━━━━━━━━━━━━━━━\u001b[0m\u001b[37m\u001b[0m \u001b[1m0s\u001b[0m 931us/step - loss: 2113899311620186701824.0000 - val_loss: 2426424355961748586496.0000\n",
      "Epoch 61/100\n",
      "\u001b[1m292/292\u001b[0m \u001b[32m━━━━━━━━━━━━━━━━━━━━\u001b[0m\u001b[37m\u001b[0m \u001b[1m0s\u001b[0m 1ms/step - loss: 2486701659274382147584.0000 - val_loss: 2426227886428004548608.0000\n",
      "Epoch 62/100\n",
      "\u001b[1m292/292\u001b[0m \u001b[32m━━━━━━━━━━━━━━━━━━━━\u001b[0m\u001b[37m\u001b[0m \u001b[1m0s\u001b[0m 982us/step - loss: 2166797607680862060544.0000 - val_loss: 2426005802671379841024.0000\n",
      "Epoch 63/100\n",
      "\u001b[1m292/292\u001b[0m \u001b[32m━━━━━━━━━━━━━━━━━━━━\u001b[0m\u001b[37m\u001b[0m \u001b[1m0s\u001b[0m 944us/step - loss: 2405738196973329055744.0000 - val_loss: 2425787941039405793280.0000\n",
      "Epoch 64/100\n",
      "\u001b[1m292/292\u001b[0m \u001b[32m━━━━━━━━━━━━━━━━━━━━\u001b[0m\u001b[37m\u001b[0m \u001b[1m0s\u001b[0m 942us/step - loss: 2275346039912024506368.0000 - val_loss: 2425557694508456476672.0000\n",
      "Epoch 65/100\n",
      "\u001b[1m292/292\u001b[0m \u001b[32m━━━━━━━━━━━━━━━━━━━━\u001b[0m\u001b[37m\u001b[0m \u001b[1m0s\u001b[0m 962us/step - loss: 2260415762722361180160.0000 - val_loss: 2425329418302344134656.0000\n",
      "Epoch 66/100\n",
      "\u001b[1m292/292\u001b[0m \u001b[32m━━━━━━━━━━━━━━━━━━━━\u001b[0m\u001b[37m\u001b[0m \u001b[1m0s\u001b[0m 940us/step - loss: 2117858820117575499776.0000 - val_loss: 2425103393896045477888.0000\n",
      "Epoch 67/100\n",
      "\u001b[1m292/292\u001b[0m \u001b[32m━━━━━━━━━━━━━━━━━━━━\u001b[0m\u001b[37m\u001b[0m \u001b[1m0s\u001b[0m 977us/step - loss: 2525986558823934984192.0000 - val_loss: 2424865829015701684224.0000\n",
      "Epoch 68/100\n",
      "\u001b[1m292/292\u001b[0m \u001b[32m━━━━━━━━━━━━━━━━━━━━\u001b[0m\u001b[37m\u001b[0m \u001b[1m0s\u001b[0m 1ms/step - loss: 2084059304914159927296.0000 - val_loss: 2424640086084379738112.0000\n",
      "Epoch 69/100\n",
      "\u001b[1m292/292\u001b[0m \u001b[32m━━━━━━━━━━━━━━━━━━━━\u001b[0m\u001b[37m\u001b[0m \u001b[1m0s\u001b[0m 939us/step - loss: 2305905918870988783616.0000 - val_loss: 2424363396182273163264.0000\n",
      "Epoch 70/100\n",
      "\u001b[1m292/292\u001b[0m \u001b[32m━━━━━━━━━━━━━━━━━━━━\u001b[0m\u001b[37m\u001b[0m \u001b[1m0s\u001b[0m 946us/step - loss: 2064509460406721314816.0000 - val_loss: 2424093180204630933504.0000\n",
      "Epoch 71/100\n",
      "\u001b[1m292/292\u001b[0m \u001b[32m━━━━━━━━━━━━━━━━━━━━\u001b[0m\u001b[37m\u001b[0m \u001b[1m0s\u001b[0m 944us/step - loss: 2381317709468889251840.0000 - val_loss: 2423816771777501069312.0000\n",
      "Epoch 72/100\n",
      "\u001b[1m292/292\u001b[0m \u001b[32m━━━━━━━━━━━━━━━━━━━━\u001b[0m\u001b[37m\u001b[0m \u001b[1m0s\u001b[0m 933us/step - loss: 2276954387928949194752.0000 - val_loss: 2423536141225720545280.0000\n",
      "Epoch 73/100\n",
      "\u001b[1m292/292\u001b[0m \u001b[32m━━━━━━━━━━━━━━━━━━━━\u001b[0m\u001b[37m\u001b[0m \u001b[1m0s\u001b[0m 977us/step - loss: 2136240965684129955840.0000 - val_loss: 2423265362298124894208.0000\n",
      "Epoch 74/100\n",
      "\u001b[1m292/292\u001b[0m \u001b[32m━━━━━━━━━━━━━━━━━━━━\u001b[0m\u001b[37m\u001b[0m \u001b[1m0s\u001b[0m 937us/step - loss: 2146854542630958661632.0000 - val_loss: 2422969250622625284096.0000\n",
      "Epoch 75/100\n",
      "\u001b[1m292/292\u001b[0m \u001b[32m━━━━━━━━━━━━━━━━━━━━\u001b[0m\u001b[37m\u001b[0m \u001b[1m0s\u001b[0m 1ms/step - loss: 2358659677531123220480.0000 - val_loss: 2422675390746939359232.0000\n",
      "Epoch 76/100\n",
      "\u001b[1m292/292\u001b[0m \u001b[32m━━━━━━━━━━━━━━━━━━━━\u001b[0m\u001b[37m\u001b[0m \u001b[1m0s\u001b[0m 919us/step - loss: 2240168141747656851456.0000 - val_loss: 2422364642372650795008.0000\n",
      "Epoch 77/100\n",
      "\u001b[1m292/292\u001b[0m \u001b[32m━━━━━━━━━━━━━━━━━━━━\u001b[0m\u001b[37m\u001b[0m \u001b[1m0s\u001b[0m 940us/step - loss: 2256152120512636518400.0000 - val_loss: 2422066841847290920960.0000\n",
      "Epoch 78/100\n",
      "\u001b[1m292/292\u001b[0m \u001b[32m━━━━━━━━━━━━━━━━━━━━\u001b[0m\u001b[37m\u001b[0m \u001b[1m0s\u001b[0m 978us/step - loss: 2237494551681370685440.0000 - val_loss: 2421764537722303676416.0000\n",
      "Epoch 79/100\n",
      "\u001b[1m292/292\u001b[0m \u001b[32m━━━━━━━━━━━━━━━━━━━━\u001b[0m\u001b[37m\u001b[0m \u001b[1m0s\u001b[0m 939us/step - loss: 2386953964402543427584.0000 - val_loss: 2421435493474528919552.0000\n",
      "Epoch 80/100\n",
      "\u001b[1m292/292\u001b[0m \u001b[32m━━━━━━━━━━━━━━━━━━━━\u001b[0m\u001b[37m\u001b[0m \u001b[1m0s\u001b[0m 940us/step - loss: 2152105458321495949312.0000 - val_loss: 2421095190227685736448.0000\n",
      "Epoch 81/100\n",
      "\u001b[1m292/292\u001b[0m \u001b[32m━━━━━━━━━━━━━━━━━━━━\u001b[0m\u001b[37m\u001b[0m \u001b[1m0s\u001b[0m 935us/step - loss: 2202044889426988892160.0000 - val_loss: 2420743346506797416448.0000\n",
      "Epoch 82/100\n",
      "\u001b[1m292/292\u001b[0m \u001b[32m━━━━━━━━━━━━━━━━━━━━\u001b[0m\u001b[37m\u001b[0m \u001b[1m0s\u001b[0m 1ms/step - loss: 2146913511638579544064.0000 - val_loss: 2420407265384604893184.0000\n",
      "Epoch 83/100\n",
      "\u001b[1m292/292\u001b[0m \u001b[32m━━━━━━━━━━━━━━━━━━━━\u001b[0m\u001b[37m\u001b[0m \u001b[1m0s\u001b[0m 933us/step - loss: 2118789376390580928512.0000 - val_loss: 2420041910864834461696.0000\n",
      "Epoch 84/100\n",
      "\u001b[1m292/292\u001b[0m \u001b[32m━━━━━━━━━━━━━━━━━━━━\u001b[0m\u001b[37m\u001b[0m \u001b[1m0s\u001b[0m 919us/step - loss: 2583586190683120074752.0000 - val_loss: 2419688941244039299072.0000\n",
      "Epoch 85/100\n",
      "\u001b[1m292/292\u001b[0m \u001b[32m━━━━━━━━━━━━━━━━━━━━\u001b[0m\u001b[37m\u001b[0m \u001b[1m0s\u001b[0m 961us/step - loss: 2112721198105164251136.0000 - val_loss: 2419325838524082552832.0000\n",
      "Epoch 86/100\n",
      "\u001b[1m292/292\u001b[0m \u001b[32m━━━━━━━━━━━━━━━━━━━━\u001b[0m\u001b[37m\u001b[0m \u001b[1m0s\u001b[0m 959us/step - loss: 2759858768948261552128.0000 - val_loss: 2418965832028869623808.0000\n",
      "Epoch 87/100\n",
      "\u001b[1m292/292\u001b[0m \u001b[32m━━━━━━━━━━━━━━━━━━━━\u001b[0m\u001b[37m\u001b[0m \u001b[1m0s\u001b[0m 946us/step - loss: 1847320975839477104640.0000 - val_loss: 2418566981986870624256.0000\n",
      "Epoch 88/100\n",
      "\u001b[1m292/292\u001b[0m \u001b[32m━━━━━━━━━━━━━━━━━━━━\u001b[0m\u001b[37m\u001b[0m \u001b[1m0s\u001b[0m 1ms/step - loss: 2172045990096608952320.0000 - val_loss: 2418177702094079787008.0000\n",
      "Epoch 89/100\n",
      "\u001b[1m292/292\u001b[0m \u001b[32m━━━━━━━━━━━━━━━━━━━━\u001b[0m\u001b[37m\u001b[0m \u001b[1m0s\u001b[0m 977us/step - loss: 2324128045913283231744.0000 - val_loss: 2417788703676265660416.0000\n",
      "Epoch 90/100\n",
      "\u001b[1m292/292\u001b[0m \u001b[32m━━━━━━━━━━━━━━━━━━━━\u001b[0m\u001b[37m\u001b[0m \u001b[1m0s\u001b[0m 939us/step - loss: 2300058979917266681856.0000 - val_loss: 2417368743011013361664.0000\n",
      "Epoch 91/100\n",
      "\u001b[1m292/292\u001b[0m \u001b[32m━━━━━━━━━━━━━━━━━━━━\u001b[0m\u001b[37m\u001b[0m \u001b[1m0s\u001b[0m 934us/step - loss: 2134424748396904448000.0000 - val_loss: 2416929923522321448960.0000\n",
      "Epoch 92/100\n",
      "\u001b[1m292/292\u001b[0m \u001b[32m━━━━━━━━━━━━━━━━━━━━\u001b[0m\u001b[37m\u001b[0m \u001b[1m0s\u001b[0m 942us/step - loss: 2297440840421392515072.0000 - val_loss: 2416513903506743099392.0000\n",
      "Epoch 93/100\n",
      "\u001b[1m292/292\u001b[0m \u001b[32m━━━━━━━━━━━━━━━━━━━━\u001b[0m\u001b[37m\u001b[0m \u001b[1m0s\u001b[0m 935us/step - loss: 2684597708200389640192.0000 - val_loss: 2416065232393866313728.0000\n",
      "Epoch 94/100\n",
      "\u001b[1m292/292\u001b[0m \u001b[32m━━━━━━━━━━━━━━━━━━━━\u001b[0m\u001b[37m\u001b[0m \u001b[1m0s\u001b[0m 966us/step - loss: 2205122255347366494208.0000 - val_loss: 2415632323879685324800.0000\n",
      "Epoch 95/100\n",
      "\u001b[1m292/292\u001b[0m \u001b[32m━━━━━━━━━━━━━━━━━━━━\u001b[0m\u001b[37m\u001b[0m \u001b[1m0s\u001b[0m 1ms/step - loss: 2482828000644890099712.0000 - val_loss: 2415156349694067605504.0000\n",
      "Epoch 96/100\n",
      "\u001b[1m292/292\u001b[0m \u001b[32m━━━━━━━━━━━━━━━━━━━━\u001b[0m\u001b[37m\u001b[0m \u001b[1m0s\u001b[0m 936us/step - loss: 2818069764456862187520.0000 - val_loss: 2414676434858775937024.0000\n",
      "Epoch 97/100\n",
      "\u001b[1m292/292\u001b[0m \u001b[32m━━━━━━━━━━━━━━━━━━━━\u001b[0m\u001b[37m\u001b[0m \u001b[1m0s\u001b[0m 920us/step - loss: 2289616117543812988928.0000 - val_loss: 2414186668399299395584.0000\n",
      "Epoch 98/100\n",
      "\u001b[1m292/292\u001b[0m \u001b[32m━━━━━━━━━━━━━━━━━━━━\u001b[0m\u001b[37m\u001b[0m \u001b[1m0s\u001b[0m 927us/step - loss: 2275735460542303698944.0000 - val_loss: 2413712101588565229568.0000\n",
      "Epoch 99/100\n",
      "\u001b[1m292/292\u001b[0m \u001b[32m━━━━━━━━━━━━━━━━━━━━\u001b[0m\u001b[37m\u001b[0m \u001b[1m0s\u001b[0m 947us/step - loss: 1970170588687354560512.0000 - val_loss: 2413209105805183287296.0000\n",
      "Epoch 100/100\n",
      "\u001b[1m292/292\u001b[0m \u001b[32m━━━━━━━━━━━━━━━━━━━━\u001b[0m\u001b[37m\u001b[0m \u001b[1m0s\u001b[0m 976us/step - loss: 2723455891685249122304.0000 - val_loss: 2412729472444868329472.0000\n"
     ]
    },
    {
     "data": {
      "text/plain": [
       "<keras.src.callbacks.history.History at 0x20c9e3be890>"
      ]
     },
     "execution_count": 56,
     "metadata": {},
     "output_type": "execute_result"
    }
   ],
   "source": [
    "model = Sequential()\n",
    "model.add(Dense(128, input_dim=train_data.shape[1], activation='relu'))\n",
    "model.add(Dense(64, activation='relu'))\n",
    "model.add(Dense(1))\n",
    "model.compile(optimizer='adam', loss='mse')\n",
    "model.fit(train_data, train_label, epochs=100, batch_size=32, validation_split=0.2)"
   ]
  },
  {
   "cell_type": "code",
   "execution_count": 57,
   "metadata": {},
   "outputs": [
    {
     "name": "stdout",
     "output_type": "stream",
     "text": [
      "\u001b[1m92/92\u001b[0m \u001b[32m━━━━━━━━━━━━━━━━━━━━\u001b[0m\u001b[37m\u001b[0m \u001b[1m0s\u001b[0m 1ms/step  \n",
      "169      3.000000e+10\n",
      "9357     3.350000e+09\n",
      "3013     1.700000e+10\n",
      "1475     9.500000e+09\n",
      "7422     2.200000e+10\n",
      "             ...     \n",
      "740      6.800000e+09\n",
      "3461     1.450000e+10\n",
      "5183     5.900000e+10\n",
      "1188     1.180000e+10\n",
      "13096    3.405000e+10\n",
      "Name: price, Length: 2921, dtype: float64 [[2.9721302e+08]\n",
      " [1.9154237e+08]\n",
      " [4.0559184e+08]\n",
      " ...\n",
      " [2.3611829e+08]\n",
      " [2.2990781e+08]\n",
      " [4.0534685e+08]]\n"
     ]
    }
   ],
   "source": [
    "predict = model.predict(test_data)\n",
    "print(test_label, predict)\n"
   ]
  }
 ],
 "metadata": {
  "kernelspec": {
   "display_name": "ML",
   "language": "python",
   "name": "python3"
  },
  "language_info": {
   "codemirror_mode": {
    "name": "ipython",
    "version": 3
   },
   "file_extension": ".py",
   "mimetype": "text/x-python",
   "name": "python",
   "nbconvert_exporter": "python",
   "pygments_lexer": "ipython3",
   "version": "3.10.14"
  }
 },
 "nbformat": 4,
 "nbformat_minor": 2
}
