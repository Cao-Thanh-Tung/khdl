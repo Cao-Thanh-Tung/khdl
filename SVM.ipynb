{
 "cells": [
  {
   "cell_type": "code",
   "execution_count": 1,
   "metadata": {},
   "outputs": [],
   "source": [
    "import os\n",
    "import csv\n",
    "import re\n",
    "import json\n",
    "from datetime import datetime"
   ]
  },
  {
   "cell_type": "code",
   "execution_count": 2,
   "metadata": {},
   "outputs": [],
   "source": [
    "import numpy as np\n",
    "import keras\n",
    "from keras import backend as K\n",
    "from keras.models import Sequential\n",
    "from keras.models import Model\n",
    "from keras.layers import Activation\n",
    "from keras.layers import Dense, Flatten\n",
    "from keras.optimizers import Adam\n",
    "from keras.metrics import categorical_crossentropy\n",
    "from tensorflow.keras.preprocessing.image import ImageDataGenerator\n",
    "from tensorflow.keras.layers import BatchNormalization\n",
    "from tensorflow.keras.layers import Dropout\n",
    "from tensorflow.keras.layers import *\n",
    "from keras.callbacks import ModelCheckpoint\n",
    "from tensorflow.keras.applications.inception_v3 import InceptionV3\n",
    "from tensorflow.keras.applications.efficientnet import EfficientNetB7\n",
    "from tensorflow.keras.applications.inception_v3 import preprocess_input\n",
    "from tensorflow.keras.applications.inception_v3 import decode_predictions\n",
    "from sklearn.metrics import confusion_matrix\n",
    "from sklearn.metrics import average_precision_score\n",
    "from sklearn.metrics import recall_score\n",
    "from sklearn.metrics import precision_score\n",
    "from sklearn.metrics import accuracy_score\n",
    "from sklearn.metrics import classification_report\n",
    "from keras.models import model_from_json\n",
    "import itertools\n",
    "import matplotlib.pyplot as plt\n",
    "import time\n",
    "import pandas as pd\n",
    "%matplotlib inline"
   ]
  },
  {
   "cell_type": "code",
   "execution_count": 11,
   "metadata": {},
   "outputs": [
    {
     "name": "stdout",
     "output_type": "stream",
     "text": [
      "          pr_id  type_estate  district posted_date   area         price  \\\n",
      "0      39815613            2         4  2024-05-10   65.0  1.450000e+10   \n",
      "1      39745141            2        26  2024-05-13   50.0  7.850000e+09   \n",
      "2      39840861            2         4  2024-05-13   45.0  1.350000e+10   \n",
      "3      39162804            2         1  2024-05-13   66.0  1.560000e+10   \n",
      "4      30881356            2        10  2024-05-13   50.0  8.500000e+09   \n",
      "...         ...          ...       ...         ...    ...           ...   \n",
      "14605  39844737            2        23  2024-05-14   40.0  7.800000e+09   \n",
      "14606  39844949            2        29  2024-05-14   52.0  1.800000e+10   \n",
      "14607  39608549            2        23  2024-05-14   52.0  7.900000e+09   \n",
      "14608  38186906            1        11  2024-05-14  105.0  4.050000e+10   \n",
      "14609  39843598            1         4  2024-05-14   73.0  3.100000e+10   \n",
      "\n",
      "       legal_document  interior  num_bedrooms  num_bathrooms  num_floors  \\\n",
      "0                   2         3            -1             -1           8   \n",
      "1                   2         0             6              4           5   \n",
      "2                   2         1             3             -1           5   \n",
      "3                   2         0            20             21           9   \n",
      "4                   2         3             4              5           5   \n",
      "...               ...       ...           ...            ...         ...   \n",
      "14605               2         1             6              6           6   \n",
      "14606               2         0             4              3           4   \n",
      "14607               2         3            10              9           6   \n",
      "14608               2         1            10             -1           7   \n",
      "14609               2         3             6              6           5   \n",
      "\n",
      "       entrance  frontage  price_per_sqm  \n",
      "0          -1.0       5.4    223076923.0  \n",
      "1          -1.0      -1.0    157000000.0  \n",
      "2          -1.0      -1.0    300000000.0  \n",
      "3          -1.0      -1.0    236363636.0  \n",
      "4           4.0       3.4    170000000.0  \n",
      "...         ...       ...            ...  \n",
      "14605       5.0       3.8    195000000.0  \n",
      "14606       3.0       5.5    346153846.0  \n",
      "14607       2.0       3.5    151923077.0  \n",
      "14608      40.0      15.0    385714286.0  \n",
      "14609       8.0       5.2    424657534.0  \n",
      "\n",
      "[14610 rows x 14 columns]\n"
     ]
    }
   ],
   "source": [
    "clean_dataDirectory = \"data/results/cleaned_data.csv\"\n",
    "standard_dataDirectory = \"data/results/standardized_data.csv\"\n",
    "data = pd.read_csv(standard_dataDirectory)\n",
    "print(data.head(5))"
   ]
  },
  {
   "cell_type": "code",
   "execution_count": 10,
   "metadata": {},
   "outputs": [
    {
     "name": "stdout",
     "output_type": "stream",
     "text": [
      "r\n",
      "y\n",
      "i\n",
      "o\n",
      "r\n",
      "r\n",
      "e\n",
      "n\n",
      "u\n",
      "u\n",
      "u\n",
      "n\n",
      "r\n",
      "r\n"
     ]
    }
   ],
   "source": []
  }
 ],
 "metadata": {
  "kernelspec": {
   "display_name": "base",
   "language": "python",
   "name": "python3"
  },
  "language_info": {
   "codemirror_mode": {
    "name": "ipython",
    "version": 3
   },
   "file_extension": ".py",
   "mimetype": "text/x-python",
   "name": "python",
   "nbconvert_exporter": "python",
   "pygments_lexer": "ipython3",
   "version": "3.10.14"
  }
 },
 "nbformat": 4,
 "nbformat_minor": 2
}
