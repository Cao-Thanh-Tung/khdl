{
 "cells": [
  {
   "cell_type": "code",
   "execution_count": 8,
   "metadata": {},
   "outputs": [
    {
     "name": "stdout",
     "output_type": "stream",
     "text": [
      "Requirement already satisfied: pandas in /opt/homebrew/lib/python3.11/site-packages (2.2.2)\n",
      "Requirement already satisfied: numpy>=1.23.2 in /opt/homebrew/lib/python3.11/site-packages (from pandas) (1.26.2)\n",
      "Requirement already satisfied: python-dateutil>=2.8.2 in /Users/the/Library/Python/3.11/lib/python/site-packages (from pandas) (2.9.0.post0)\n",
      "Requirement already satisfied: pytz>=2020.1 in /opt/homebrew/lib/python3.11/site-packages (from pandas) (2024.1)\n",
      "Requirement already satisfied: tzdata>=2022.7 in /opt/homebrew/lib/python3.11/site-packages (from pandas) (2024.1)\n",
      "Requirement already satisfied: six>=1.5 in /Users/the/Library/Python/3.11/lib/python/site-packages (from python-dateutil>=2.8.2->pandas) (1.16.0)\n",
      "\n",
      "\u001b[1m[\u001b[0m\u001b[34;49mnotice\u001b[0m\u001b[1;39;49m]\u001b[0m\u001b[39;49m A new release of pip is available: \u001b[0m\u001b[31;49m23.3.1\u001b[0m\u001b[39;49m -> \u001b[0m\u001b[32;49m24.0\u001b[0m\n",
      "\u001b[1m[\u001b[0m\u001b[34;49mnotice\u001b[0m\u001b[1;39;49m]\u001b[0m\u001b[39;49m To update, run: \u001b[0m\u001b[32;49mpython3.11 -m pip install --upgrade pip\u001b[0m\n",
      "Requirement already satisfied: selenium in /Users/the/Library/Python/3.11/lib/python/site-packages (4.20.0)\n",
      "Requirement already satisfied: urllib3<3,>=1.26 in /opt/homebrew/lib/python3.11/site-packages (from urllib3[socks]<3,>=1.26->selenium) (2.2.1)\n",
      "Requirement already satisfied: trio~=0.17 in /Users/the/Library/Python/3.11/lib/python/site-packages (from selenium) (0.25.0)\n",
      "Requirement already satisfied: trio-websocket~=0.9 in /Users/the/Library/Python/3.11/lib/python/site-packages (from selenium) (0.11.1)\n",
      "Requirement already satisfied: certifi>=2021.10.8 in /opt/homebrew/lib/python3.11/site-packages (from selenium) (2024.2.2)\n",
      "Requirement already satisfied: typing_extensions>=4.9.0 in /opt/homebrew/lib/python3.11/site-packages (from selenium) (4.9.0)\n",
      "Requirement already satisfied: attrs>=23.2.0 in /Users/the/Library/Python/3.11/lib/python/site-packages (from trio~=0.17->selenium) (23.2.0)\n",
      "Requirement already satisfied: sortedcontainers in /Users/the/Library/Python/3.11/lib/python/site-packages (from trio~=0.17->selenium) (2.4.0)\n",
      "Requirement already satisfied: idna in /opt/homebrew/lib/python3.11/site-packages (from trio~=0.17->selenium) (3.6)\n",
      "Requirement already satisfied: outcome in /Users/the/Library/Python/3.11/lib/python/site-packages (from trio~=0.17->selenium) (1.3.0.post0)\n",
      "Requirement already satisfied: sniffio>=1.3.0 in /opt/homebrew/lib/python3.11/site-packages (from trio~=0.17->selenium) (1.3.0)\n",
      "Requirement already satisfied: wsproto>=0.14 in /Users/the/Library/Python/3.11/lib/python/site-packages (from trio-websocket~=0.9->selenium) (1.2.0)\n",
      "Requirement already satisfied: pysocks!=1.5.7,<2.0,>=1.5.6 in /Users/the/Library/Python/3.11/lib/python/site-packages (from urllib3[socks]<3,>=1.26->selenium) (1.7.1)\n",
      "Requirement already satisfied: h11<1,>=0.9.0 in /opt/homebrew/lib/python3.11/site-packages (from wsproto>=0.14->trio-websocket~=0.9->selenium) (0.14.0)\n",
      "\n",
      "\u001b[1m[\u001b[0m\u001b[34;49mnotice\u001b[0m\u001b[1;39;49m]\u001b[0m\u001b[39;49m A new release of pip is available: \u001b[0m\u001b[31;49m23.3.1\u001b[0m\u001b[39;49m -> \u001b[0m\u001b[32;49m24.0\u001b[0m\n",
      "\u001b[1m[\u001b[0m\u001b[34;49mnotice\u001b[0m\u001b[1;39;49m]\u001b[0m\u001b[39;49m To update, run: \u001b[0m\u001b[32;49mpython3.11 -m pip install --upgrade pip\u001b[0m\n"
     ]
    }
   ],
   "source": [
    "!pip install pandas\n",
    "!pip install selenium"
   ]
  },
  {
   "cell_type": "code",
   "execution_count": 22,
   "metadata": {},
   "outputs": [
    {
     "name": "stdout",
     "output_type": "stream",
     "text": [
      "4 files created.\n"
     ]
    }
   ],
   "source": [
    "import shutil\n",
    "def split_csv(input_file, chunk_size=5000):\n",
    "    # Read the original CSV file\n",
    "    df = pd.read_csv(input_file)\n",
    "\n",
    "    # Calculate the number of chunks needed\n",
    "    num_chunks = (len(df) + chunk_size - 1) // chunk_size\n",
    "\n",
    "    # Split the dataframe into chunks\n",
    "    chunks = [df[i*chunk_size:(i+1)*chunk_size] for i in range(num_chunks)]\n",
    "\n",
    "    # Write each chunk to a separate CSV file\n",
    "    for i, chunk in enumerate(chunks):\n",
    "        output_file = f\"data/links/link_data_{i + 1}.csv\"\n",
    "        chunk.to_csv(output_file, index=False)\n",
    "\n",
    "    print(f\"{num_chunks} files created.\")\n",
    "\n",
    "split_csv(\"data/links/link_data.csv\")"
   ]
  },
  {
   "cell_type": "code",
   "execution_count": 9,
   "metadata": {},
   "outputs": [],
   "source": [
    "from time import sleep\n",
    "import pandas as pd\n",
    "from selenium import webdriver\n",
    "from selenium.webdriver.chrome.options import Options\n",
    "from bs4 import BeautifulSoup\n",
    "import re\n",
    "from concurrent.futures import ThreadPoolExecutor, as_completed"
   ]
  },
  {
   "cell_type": "code",
   "execution_count": 10,
   "metadata": {},
   "outputs": [
    {
     "name": "stdout",
     "output_type": "stream",
     "text": [
      "<class 'pandas.core.frame.DataFrame'>\n",
      "RangeIndex: 8002 entries, 0 to 8001\n",
      "Data columns (total 2 columns):\n",
      " #   Column      Non-Null Count  Dtype \n",
      "---  ------      --------------  ----- \n",
      " 0   Unnamed: 0  8002 non-null   int64 \n",
      " 1   link        8002 non-null   object\n",
      "dtypes: int64(1), object(1)\n",
      "memory usage: 125.2+ KB\n"
     ]
    }
   ],
   "source": [
    "df_link_data = pd.read_csv('data/link_data_1.csv')\n",
    "df_link_data.info()"
   ]
  },
  {
   "cell_type": "code",
   "execution_count": 11,
   "metadata": {},
   "outputs": [
    {
     "name": "stdout",
     "output_type": "stream",
     "text": [
      "8002\n"
     ]
    }
   ],
   "source": [
    "LIST_LINK_PRODUCT = df_link_data['link'].values.tolist()\n",
    "\n",
    "print(len(LIST_LINK_PRODUCT))"
   ]
  },
  {
   "cell_type": "code",
   "execution_count": 18,
   "metadata": {},
   "outputs": [
    {
     "name": "stdout",
     "output_type": "stream",
     "text": [
      "{'type_estate': 'Nhà riêng', 'district': 'Thanh Xuân', 'price_per_sqm': '~145,46 triệu/m²', 'posted_date': '08/05/2024', 'area': '55 m²', 'price': '8 tỷ', 'legal_document': '', 'interior': '', 'num_bedrooms': '', 'num_bathrooms': '', 'num_floors': '4 tầng', 'house_orientation': '', 'balcony_orientation': '', 'entrance': '', 'frontage': '4,3 m'}\n",
      "{'type_estate': 'Nhà riêng', 'district': 'Long Biên', 'price_per_sqm': '~236,14 triệu/m²', 'posted_date': '15/04/2024', 'area': '83 m²', 'price': '19,6 tỷ', 'legal_document': 'Sổ đỏ.', 'interior': '', 'num_bedrooms': '', 'num_bathrooms': '', 'num_floors': '4 tầng', 'house_orientation': '', 'balcony_orientation': '', 'entrance': '8 m', 'frontage': '4,8 m'}\n",
      "{'type_estate': 'Nhà riêng', 'district': 'Hoàng Mai', 'price_per_sqm': '~197,44 triệu/m²', 'posted_date': '10/05/2024', 'area': '39 m²', 'price': '7,7 tỷ', 'legal_document': 'Sổ đỏ/ Sổ hồng.', 'interior': 'Đầy đủ.', 'num_bedrooms': '3 phòng', 'num_bathrooms': '3 phòng', 'num_floors': '4 tầng', 'house_orientation': '', 'balcony_orientation': '', 'entrance': '7 m', 'frontage': '4 m'}\n",
      "{'type_estate': 'Nhà riêng', 'district': 'Nam Từ Liêm', 'price_per_sqm': '', 'posted_date': '13/05/2024', 'area': '50 m²', 'price': 'Thỏa thuận', 'legal_document': '+ Chủ thiện chí, sổ đỏ chính chủ, sẵn sàng giao dịch.,', 'interior': '', 'num_bedrooms': '3 phòng', 'num_bathrooms': '', 'num_floors': '5 tầng', 'house_orientation': '', 'balcony_orientation': '', 'entrance': '', 'frontage': ''}\n",
      "{'type_estate': 'Nhà biệt thự, liền kề', 'district': 'Nam Từ Liêm', 'price_per_sqm': '~562,5 triệu/m²', 'posted_date': '09/05/2024', 'area': '160 m²', 'price': '90 tỷ', 'legal_document': 'Sổ đỏ/ Sổ hồng', 'interior': 'Đầy đủ', 'num_bedrooms': '5 phòng', 'num_bathrooms': '4 phòng', 'num_floors': '4 tầng', 'house_orientation': 'Đông - Nam', 'balcony_orientation': 'Đông - Nam', 'entrance': '13 m', 'frontage': '24,09 m'}\n",
      "{'type_estate': 'Nhà biệt thự, liền kề', 'district': 'Nam Từ Liêm', 'price_per_sqm': '~140,91 triệu/m²', 'posted_date': '13/05/2024', 'area': '220 m²', 'price': '31 tỷ', 'legal_document': 'Sổ đỏ vuông vắn', 'interior': 'Xịn', 'num_bedrooms': '6 phòng', 'num_bathrooms': '6 phòng', 'num_floors': '3 tầng', 'house_orientation': '', 'balcony_orientation': '', 'entrance': '8 m', 'frontage': '12 m'}\n",
      "{'type_estate': 'Nhà riêng', 'district': 'Long Biên', 'price_per_sqm': '~108,33 triệu/m²', 'posted_date': '04/05/2024', 'area': '30 m²', 'price': '3,25 tỷ', 'legal_document': 'Sổ đỏ/ Sổ hồng', 'interior': '', 'num_bedrooms': '3 phòng', 'num_bathrooms': '4 phòng', 'num_floors': '5 tầng', 'house_orientation': 'Đông - Bắc', 'balcony_orientation': '', 'entrance': '2 m', 'frontage': '3,6 m'}\n",
      "{'type_estate': 'Nhà biệt thự, liền kề', 'district': 'Nam Từ Liêm', 'price_per_sqm': '~115 triệu/m²', 'posted_date': '13/05/2024', 'area': '200 m²', 'price': '23 tỷ', 'legal_document': 'Sổ đỏ vuông vắn.', 'interior': '', 'num_bedrooms': '5 phòng', 'num_bathrooms': '5 phòng', 'num_floors': '4 tầng', 'house_orientation': '', 'balcony_orientation': '', 'entrance': '12 m', 'frontage': '5 m'}\n",
      "{'type_estate': 'Nhà biệt thự, liền kề', 'district': 'Đống Đa', 'price_per_sqm': '~368,75 triệu/m²', 'posted_date': '13/05/2024', 'area': '160 m²', 'price': '59 tỷ', 'legal_document': 'Sổ đỏ chính chủ.', 'interior': '', 'num_bedrooms': '6 phòng', 'num_bathrooms': '7 phòng', 'num_floors': '5 tầng', 'house_orientation': '', 'balcony_orientation': '', 'entrance': '12 m', 'frontage': '9,6 m'}\n",
      "{'type_estate': 'Nhà riêng', 'district': 'Long Biên', 'price_per_sqm': '~167,42 triệu/m²', 'posted_date': '04/05/2024', 'area': '43 m²', 'price': '7,2 tỷ', 'legal_document': 'Sổ đỏ/ Sổ hồng', 'interior': 'Cơ bản.', 'num_bedrooms': '4 phòng', 'num_bathrooms': '5 phòng', 'num_floors': '6 tầng', 'house_orientation': 'Đông - Bắc', 'balcony_orientation': 'Đông - Bắc', 'entrance': '6 m', 'frontage': '3,6 m'}\n",
      "{'type_estate': 'Nhà mặt phố', 'district': 'Cầu Giấy', 'price_per_sqm': '~471,43 triệu/m²', 'posted_date': '13/05/2024', 'area': '70 m²', 'price': '33 tỷ', 'legal_document': 'Sổ đỏ/ Sổ hồng', 'interior': '', 'num_bedrooms': '4 phòng', 'num_bathrooms': '3 phòng', 'num_floors': '3 tầng', 'house_orientation': '', 'balcony_orientation': '', 'entrance': '25 m', 'frontage': '5,5 m'}\n",
      "{'type_estate': 'Nhà riêng', 'district': 'Long Biên', 'price_per_sqm': '~216,07 triệu/m²', 'posted_date': '04/05/2024', 'area': '56 m²', 'price': '12,1 tỷ', 'legal_document': 'Sổ đỏ/ Sổ hồng', 'interior': 'Đầy đủ nội thất.', 'num_bedrooms': '5 phòng', 'num_bathrooms': '6 phòng', 'num_floors': '6 tầng', 'house_orientation': 'Đông - Nam', 'balcony_orientation': 'Đông - Nam', 'entrance': '17 m', 'frontage': '6,2 m'}\n",
      "{'type_estate': 'Nhà biệt thự, liền kề', 'district': 'Nam Từ Liêm', 'price_per_sqm': '~230 triệu/m²', 'posted_date': '13/05/2024', 'area': '150 m²', 'price': '34,5 tỷ', 'legal_document': 'Sổ đỏ/ Sổ hồng', 'interior': 'Đầy đủ', 'num_bedrooms': '5 phòng', 'num_bathrooms': '6 phòng', 'num_floors': '4 tầng', 'house_orientation': 'Đông - Nam', 'balcony_orientation': '', 'entrance': '8 m', 'frontage': '10 m'}\n",
      "{'type_estate': 'Nhà riêng', 'district': 'Hà Đông', 'price_per_sqm': '~57,58 triệu/m²', 'posted_date': '13/05/2024', 'area': '33 m²', 'price': '1,9 tỷ', 'legal_document': 'Sổ đỏ/ Sổ hồng', 'interior': 'Cơ bản', 'num_bedrooms': '3 phòng', 'num_bathrooms': '3 phòng', 'num_floors': '3 tầng', 'house_orientation': 'Tây - Nam', 'balcony_orientation': 'Tây - Nam', 'entrance': '3 m', 'frontage': '4 m'}\n",
      "{'type_estate': 'Nhà biệt thự, liền kề', 'district': 'Long Biên', 'price_per_sqm': '~169,4 triệu/m²', 'posted_date': '09/05/2024', 'area': '183 m²', 'price': '31 tỷ', 'legal_document': 'Sổ đỏ/ Sổ hồng.', 'interior': 'Cơ bản.', 'num_bedrooms': '4 phòng', 'num_bathrooms': '3 phòng', 'num_floors': '4 tầng', 'house_orientation': 'Đông - Nam', 'balcony_orientation': 'Đông - Nam', 'entrance': '13,5 m', 'frontage': '13,3 m'}\n",
      "{'type_estate': 'Nhà riêng', 'district': 'Cầu Giấy', 'price_per_sqm': '~272,73 triệu/m²', 'posted_date': '04/05/2024', 'area': '55 m²', 'price': '15 tỷ', 'legal_document': 'Sổ đỏ/ Sổ hồng', 'interior': 'Đầy đủ', 'num_bedrooms': '11 phòng', 'num_bathrooms': '11 phòng', 'num_floors': '6 tầng', 'house_orientation': '', 'balcony_orientation': '', 'entrance': '', 'frontage': ''}\n",
      "{'type_estate': 'Nhà biệt thự, liền kề', 'district': 'Nam Từ Liêm', 'price_per_sqm': '~220 triệu/m²', 'posted_date': '09/05/2024', 'area': '100 m²', 'price': '22 tỷ', 'legal_document': 'Sổ đỏ/ Sổ hồng', 'interior': '', 'num_bedrooms': '', 'num_bathrooms': '', 'num_floors': '', 'house_orientation': '', 'balcony_orientation': '', 'entrance': '', 'frontage': '5 m'}\n",
      "{'type_estate': 'Nhà riêng', 'district': 'Cầu Giấy', 'price_per_sqm': '~295,16 triệu/m²', 'posted_date': '13/05/2024', 'area': '62 m²', 'price': '18,3 tỷ', 'legal_document': '', 'interior': '', 'num_bedrooms': '', 'num_bathrooms': '', 'num_floors': '5 tầng', 'house_orientation': '', 'balcony_orientation': '', 'entrance': '', 'frontage': '5 m'}\n",
      "{'type_estate': 'Nhà riêng', 'district': 'Hà Đông', 'price_per_sqm': '~62,86 triệu/m²', 'posted_date': '08/05/2024', 'area': '35 m²', 'price': '2,2 tỷ', 'legal_document': 'Sổ đỏ/ Sổ hồng', 'interior': 'Cơ bản', 'num_bedrooms': '4 phòng', 'num_bathrooms': '4 phòng', 'num_floors': '4 tầng', 'house_orientation': 'Đông - Nam', 'balcony_orientation': 'Đông - Nam', 'entrance': '2,5 m', 'frontage': '4 m'}\n",
      "{'type_estate': 'Nhà riêng', 'district': 'Đống Đa', 'price_per_sqm': '~173,33 triệu/m²', 'posted_date': '13/05/2024', 'area': '30 m²', 'price': '5,2 tỷ', 'legal_document': 'Sổ đỏ/ Sổ hồng', 'interior': 'Cơ bản', 'num_bedrooms': '3 phòng', 'num_bathrooms': '4 phòng', 'num_floors': '5 tầng', 'house_orientation': '', 'balcony_orientation': '', 'entrance': '', 'frontage': '4 m'}\n",
      "{'type_estate': 'Nhà riêng', 'district': 'Quốc Oai', 'price_per_sqm': '', 'posted_date': '03/05/2024', 'area': '100 m²', 'price': 'Thỏa thuận', 'legal_document': 'Sổ đỏ/ Sổ hồng', 'interior': '', 'num_bedrooms': '', 'num_bathrooms': '', 'num_floors': '', 'house_orientation': '', 'balcony_orientation': '', 'entrance': '', 'frontage': ''}\n",
      "{'type_estate': 'Nhà riêng', 'district': 'Tây Hồ', 'price_per_sqm': '~187,14 triệu/m²', 'posted_date': '09/05/2024', 'area': '140 m²', 'price': '26,2 tỷ', 'legal_document': '', 'interior': '', 'num_bedrooms': '', 'num_bathrooms': '', 'num_floors': '6 tầng', 'house_orientation': '', 'balcony_orientation': '', 'entrance': '', 'frontage': ''}\n",
      "{'type_estate': 'Nhà riêng', 'district': 'Hoàng Mai', 'price_per_sqm': '~126 triệu/m²', 'posted_date': '06/05/2024', 'area': '30 m²', 'price': '3,78 tỷ', 'legal_document': 'Sổ đỏ', 'interior': '', 'num_bedrooms': '3 phòng', 'num_bathrooms': '4 phòng', 'num_floors': '5 tầng', 'house_orientation': '', 'balcony_orientation': '', 'entrance': '', 'frontage': ''}\n",
      "Breadcrumb not found for URL: https://batdongsan.com.vn/ban-nha-rieng-phuong-vinh-hung-2/ban-hoang-mai-30m-5-tang-full-noi-that-dep-nhu-anh-gia-3-75-ty-pr39805542\n",
      "{'type_estate': '', 'district': '', 'price_per_sqm': '', 'posted_date': '', 'area': '', 'price': '', 'legal_document': '', 'interior': '', 'num_bedrooms': '', 'num_bathrooms': '', 'num_floors': '', 'house_orientation': '', 'balcony_orientation': '', 'entrance': '', 'frontage': ''}\n",
      "{'type_estate': 'Nhà riêng', 'district': 'Hà Đông', 'price_per_sqm': '~55,46 triệu/m²', 'posted_date': '04/05/2024', 'area': '33 m²', 'price': '1,83 tỷ', 'legal_document': 'Sổ đỏ/ Sổ hồng', 'interior': 'Cơ bản', 'num_bedrooms': '3 phòng', 'num_bathrooms': '3 phòng', 'num_floors': '3 tầng', 'house_orientation': 'Tây - Nam', 'balcony_orientation': 'Tây - Nam', 'entrance': '3 m', 'frontage': '4 m'}\n",
      "{'type_estate': 'Nhà riêng', 'district': 'Long Biên', 'price_per_sqm': '~114,17 triệu/m²', 'posted_date': '09/05/2024', 'area': '60 m²', 'price': '6,85 tỷ', 'legal_document': 'Sổ đỏ/ Sổ hồng', 'interior': '', 'num_bedrooms': '', 'num_bathrooms': '', 'num_floors': '4 tầng', 'house_orientation': 'Đông - Nam', 'balcony_orientation': '', 'entrance': '', 'frontage': ''}\n",
      "{'type_estate': 'Nhà riêng', 'district': 'Ba Đình', 'price_per_sqm': '~270 triệu/m²', 'posted_date': '13/05/2024', 'area': '60 m²', 'price': '16,2 tỷ', 'legal_document': '', 'interior': '', 'num_bedrooms': '', 'num_bathrooms': '', 'num_floors': '7 tầng', 'house_orientation': '', 'balcony_orientation': '', 'entrance': '', 'frontage': ''}\n",
      "{'type_estate': 'Nhà riêng', 'district': 'Nam Từ Liêm', 'price_per_sqm': '~128,95 triệu/m²', 'posted_date': '06/05/2024', 'area': '38 m²', 'price': '4,9 tỷ', 'legal_document': 'Sổ đỏ/ Sổ hồng.', 'interior': 'Cơ bản.', 'num_bedrooms': '4 phòng', 'num_bathrooms': '4 phòng', 'num_floors': '5 tầng', 'house_orientation': 'Đông - Nam', 'balcony_orientation': 'Đông - Nam', 'entrance': '4 m', 'frontage': ''}\n",
      "{'type_estate': 'Nhà riêng', 'district': 'Long Biên', 'price_per_sqm': '~279,54 triệu/m²', 'posted_date': '13/05/2024', 'area': '44 m²', 'price': '12,3 tỷ', 'legal_document': 'Sổ đỏ/ Sổ hồng', 'interior': 'Đầy đủ nội thất xịn xò, đầy đủ, mới tinh, gia đình để lại toàn bộ cho khách.', 'num_bedrooms': '3 phòng', 'num_bathrooms': '3 phòng', 'num_floors': '4 tầng', 'house_orientation': '', 'balcony_orientation': '', 'entrance': '8 m', 'frontage': '6,65 m'}\n",
      "{'type_estate': 'Nhà riêng', 'district': 'Hai Bà Trưng', 'price_per_sqm': '~132,81 triệu/m²', 'posted_date': '13/05/2024', 'area': '32 m²', 'price': '4,25 tỷ', 'legal_document': 'Sổ đỏ/ Sổ hồng', 'interior': 'Đầy đủ', 'num_bedrooms': '6 phòng', 'num_bathrooms': '6 phòng', 'num_floors': '6 tầng', 'house_orientation': '', 'balcony_orientation': '', 'entrance': '', 'frontage': '3,3 m'}\n",
      "{'type_estate': 'Nhà riêng', 'district': 'Hà Đông', 'price_per_sqm': '~160 triệu/m²', 'posted_date': '11/05/2024', 'area': '70 m²', 'price': '11,2 tỷ', 'legal_document': 'Sổ đỏ', 'interior': '', 'num_bedrooms': '', 'num_bathrooms': '', 'num_floors': '5 tầng', 'house_orientation': '', 'balcony_orientation': '', 'entrance': '', 'frontage': '5,2 m'}\n",
      "{'type_estate': 'Nhà biệt thự, liền kề', 'district': 'Tây Hồ', 'price_per_sqm': '', 'posted_date': '13/05/2024', 'area': '342 m²', 'price': 'Thỏa thuận', 'legal_document': '', 'interior': '', 'num_bedrooms': '', 'num_bathrooms': '', 'num_floors': '', 'house_orientation': 'Đông - Bắc', 'balcony_orientation': '', 'entrance': '', 'frontage': ''}\n",
      "{'type_estate': 'Nhà biệt thự, liền kề', 'district': 'Tây Hồ', 'price_per_sqm': '', 'posted_date': '13/05/2024', 'area': '398,2 m²', 'price': 'Thỏa thuận', 'legal_document': 'Sổ đỏ', 'interior': 'Full nội thất.', 'num_bedrooms': '', 'num_bathrooms': '', 'num_floors': '', 'house_orientation': 'Nam', 'balcony_orientation': '', 'entrance': '', 'frontage': ''}\n",
      "{'type_estate': 'Nhà riêng', 'district': 'Hoàng Mai', 'price_per_sqm': '~118 triệu/m²', 'posted_date': '08/05/2024', 'area': '50 m²', 'price': '5,9 tỷ', 'legal_document': 'Sổ đỏ/ Sổ hồng.', 'interior': '', 'num_bedrooms': '4 phòng', 'num_bathrooms': '', 'num_floors': '5 tầng', 'house_orientation': '', 'balcony_orientation': '', 'entrance': '', 'frontage': ''}\n",
      "Breadcrumb not found for URL: https://batdongsan.com.vn/ban-nha-biet-thu-lien-ke-duong-lac-long-quan-phuong-phu-thuong-1-prj-khu-do-thi-nam-thang-long-ciputra/ban-chuyen-nhuong-can-c-huong-tay-huong-tay-phong-y-tot-pr39447234\n",
      "{'type_estate': '', 'district': '', 'price_per_sqm': '', 'posted_date': '', 'area': '', 'price': '', 'legal_document': '', 'interior': '', 'num_bedrooms': '', 'num_bathrooms': '', 'num_floors': '', 'house_orientation': '', 'balcony_orientation': '', 'entrance': '', 'frontage': ''}\n",
      "{'type_estate': 'Nhà riêng', 'district': 'Cầu Giấy', 'price_per_sqm': '~210,94 triệu/m²', 'posted_date': '13/05/2024', 'area': '32 m²', 'price': '6,75 tỷ', 'legal_document': 'Sổ đỏ.', 'interior': '', 'num_bedrooms': '', 'num_bathrooms': '', 'num_floors': '5 tầng', 'house_orientation': '', 'balcony_orientation': '', 'entrance': '', 'frontage': ''}\n",
      "{'type_estate': 'Nhà riêng', 'district': 'Nam Từ Liêm', 'price_per_sqm': '~173,68 triệu/m²', 'posted_date': '13/05/2024', 'area': '57 m²', 'price': '9,9 tỷ', 'legal_document': '+ Sổ cất két, sẵn sàng giao dịch.', 'interior': 'Đầy đủ + Thang máy nhập khẩu.', 'num_bedrooms': '10 phòng', 'num_bathrooms': '10 phòng', 'num_floors': '6 tầng', 'house_orientation': '', 'balcony_orientation': '', 'entrance': '3 m', 'frontage': '4 m'}\n"
     ]
    },
    {
     "ename": "KeyboardInterrupt",
     "evalue": "",
     "output_type": "error",
     "traceback": [
      "\u001b[0;31m---------------------------------------------------------------------------\u001b[0m",
      "\u001b[0;31mKeyboardInterrupt\u001b[0m                         Traceback (most recent call last)",
      "Cell \u001b[0;32mIn[18], line 121\u001b[0m\n\u001b[1;32m    117\u001b[0m             \u001b[38;5;28;01mraise\u001b[39;00m\n\u001b[1;32m    119\u001b[0m     \u001b[38;5;28;01mreturn\u001b[39;00m scraped_properties\n\u001b[0;32m--> 121\u001b[0m LIST_PRODUCT \u001b[38;5;241m=\u001b[39m \u001b[43mscrape_property_details\u001b[49m\u001b[43m(\u001b[49m\u001b[43mLIST_LINK_PRODUCT\u001b[49m\u001b[43m)\u001b[49m\n\u001b[1;32m    122\u001b[0m \u001b[38;5;28mprint\u001b[39m(LIST_PRODUCT)\n",
      "Cell \u001b[0;32mIn[18], line 106\u001b[0m, in \u001b[0;36mscrape_property_details\u001b[0;34m(urls)\u001b[0m\n\u001b[1;32m    104\u001b[0m futures \u001b[38;5;241m=\u001b[39m {executor\u001b[38;5;241m.\u001b[39msubmit(extract_property_details, url): url \u001b[38;5;28;01mfor\u001b[39;00m url \u001b[38;5;129;01min\u001b[39;00m urls}\n\u001b[1;32m    105\u001b[0m \u001b[38;5;28;01mtry\u001b[39;00m:\n\u001b[0;32m--> 106\u001b[0m \u001b[43m    \u001b[49m\u001b[38;5;28;43;01mfor\u001b[39;49;00m\u001b[43m \u001b[49m\u001b[43mfuture\u001b[49m\u001b[43m \u001b[49m\u001b[38;5;129;43;01min\u001b[39;49;00m\u001b[43m \u001b[49m\u001b[43mas_completed\u001b[49m\u001b[43m(\u001b[49m\u001b[43mfutures\u001b[49m\u001b[43m)\u001b[49m\u001b[43m:\u001b[49m\n\u001b[1;32m    107\u001b[0m \u001b[43m        \u001b[49m\u001b[43murl\u001b[49m\u001b[43m \u001b[49m\u001b[38;5;241;43m=\u001b[39;49m\u001b[43m \u001b[49m\u001b[43mfutures\u001b[49m\u001b[43m[\u001b[49m\u001b[43mfuture\u001b[49m\u001b[43m]\u001b[49m\n\u001b[1;32m    108\u001b[0m \u001b[43m        \u001b[49m\u001b[38;5;28;43;01mtry\u001b[39;49;00m\u001b[43m:\u001b[49m\n",
      "File \u001b[0;32m/opt/homebrew/Cellar/python@3.11/3.11.7_1/Frameworks/Python.framework/Versions/3.11/lib/python3.11/concurrent/futures/_base.py:243\u001b[0m, in \u001b[0;36mas_completed\u001b[0;34m(fs, timeout)\u001b[0m\n\u001b[1;32m    238\u001b[0m     \u001b[38;5;28;01mif\u001b[39;00m wait_timeout \u001b[38;5;241m<\u001b[39m \u001b[38;5;241m0\u001b[39m:\n\u001b[1;32m    239\u001b[0m         \u001b[38;5;28;01mraise\u001b[39;00m \u001b[38;5;167;01mTimeoutError\u001b[39;00m(\n\u001b[1;32m    240\u001b[0m                 \u001b[38;5;124m'\u001b[39m\u001b[38;5;132;01m%d\u001b[39;00m\u001b[38;5;124m (of \u001b[39m\u001b[38;5;132;01m%d\u001b[39;00m\u001b[38;5;124m) futures unfinished\u001b[39m\u001b[38;5;124m'\u001b[39m \u001b[38;5;241m%\u001b[39m (\n\u001b[1;32m    241\u001b[0m                 \u001b[38;5;28mlen\u001b[39m(pending), total_futures))\n\u001b[0;32m--> 243\u001b[0m \u001b[43mwaiter\u001b[49m\u001b[38;5;241;43m.\u001b[39;49m\u001b[43mevent\u001b[49m\u001b[38;5;241;43m.\u001b[39;49m\u001b[43mwait\u001b[49m\u001b[43m(\u001b[49m\u001b[43mwait_timeout\u001b[49m\u001b[43m)\u001b[49m\n\u001b[1;32m    245\u001b[0m \u001b[38;5;28;01mwith\u001b[39;00m waiter\u001b[38;5;241m.\u001b[39mlock:\n\u001b[1;32m    246\u001b[0m     finished \u001b[38;5;241m=\u001b[39m waiter\u001b[38;5;241m.\u001b[39mfinished_futures\n",
      "File \u001b[0;32m/opt/homebrew/Cellar/python@3.11/3.11.7_1/Frameworks/Python.framework/Versions/3.11/lib/python3.11/threading.py:629\u001b[0m, in \u001b[0;36mEvent.wait\u001b[0;34m(self, timeout)\u001b[0m\n\u001b[1;32m    627\u001b[0m signaled \u001b[38;5;241m=\u001b[39m \u001b[38;5;28mself\u001b[39m\u001b[38;5;241m.\u001b[39m_flag\n\u001b[1;32m    628\u001b[0m \u001b[38;5;28;01mif\u001b[39;00m \u001b[38;5;129;01mnot\u001b[39;00m signaled:\n\u001b[0;32m--> 629\u001b[0m     signaled \u001b[38;5;241m=\u001b[39m \u001b[38;5;28;43mself\u001b[39;49m\u001b[38;5;241;43m.\u001b[39;49m\u001b[43m_cond\u001b[49m\u001b[38;5;241;43m.\u001b[39;49m\u001b[43mwait\u001b[49m\u001b[43m(\u001b[49m\u001b[43mtimeout\u001b[49m\u001b[43m)\u001b[49m\n\u001b[1;32m    630\u001b[0m \u001b[38;5;28;01mreturn\u001b[39;00m signaled\n",
      "File \u001b[0;32m/opt/homebrew/Cellar/python@3.11/3.11.7_1/Frameworks/Python.framework/Versions/3.11/lib/python3.11/threading.py:327\u001b[0m, in \u001b[0;36mCondition.wait\u001b[0;34m(self, timeout)\u001b[0m\n\u001b[1;32m    325\u001b[0m \u001b[38;5;28;01mtry\u001b[39;00m:    \u001b[38;5;66;03m# restore state no matter what (e.g., KeyboardInterrupt)\u001b[39;00m\n\u001b[1;32m    326\u001b[0m     \u001b[38;5;28;01mif\u001b[39;00m timeout \u001b[38;5;129;01mis\u001b[39;00m \u001b[38;5;28;01mNone\u001b[39;00m:\n\u001b[0;32m--> 327\u001b[0m         \u001b[43mwaiter\u001b[49m\u001b[38;5;241;43m.\u001b[39;49m\u001b[43macquire\u001b[49m\u001b[43m(\u001b[49m\u001b[43m)\u001b[49m\n\u001b[1;32m    328\u001b[0m         gotit \u001b[38;5;241m=\u001b[39m \u001b[38;5;28;01mTrue\u001b[39;00m\n\u001b[1;32m    329\u001b[0m     \u001b[38;5;28;01melse\u001b[39;00m:\n",
      "\u001b[0;31mKeyboardInterrupt\u001b[0m: "
     ]
    }
   ],
   "source": [
    "LIST_PRODUCT = []\n",
    "\n",
    "# Define a function to extract property details\n",
    "def extract_property_details(url):\n",
    "    property_details = {\n",
    "        'type_estate': '',\n",
    "        'district': '',\n",
    "        'price_per_sqm': '',\n",
    "        'posted_date': '',\n",
    "        'area': '',\n",
    "        'price': '',\n",
    "        'legal_document': '',\n",
    "        'interior': '',\n",
    "        'num_bedrooms': '',\n",
    "        'num_bathrooms': '',\n",
    "        'num_floors': '',\n",
    "        'house_orientation': '',\n",
    "        'balcony_orientation': '',\n",
    "        'entrance': '',\n",
    "        'frontage': ''\n",
    "    }\n",
    "\n",
    "    try:\n",
    "        # Set up Selenium WebDriver\n",
    "        with webdriver.Chrome() as driver:\n",
    "            driver.get(url)\n",
    "            \n",
    "            # Get the page source\n",
    "            page_source = driver.page_source\n",
    "\n",
    "        soup = BeautifulSoup(page_source, \"html.parser\")\n",
    "\n",
    "        try:\n",
    "            # Find the breadcrumb element\n",
    "            breadcrumb = soup.find('div', class_='re__breadcrumb')\n",
    "            if breadcrumb:\n",
    "                level_4_link = breadcrumb.find('a', {'level': '4'})\n",
    "                if level_4_link:\n",
    "                    level_4_title = level_4_link.text\n",
    "\n",
    "                    # Use regular expressions to extract the type_estate\n",
    "                    match = re.search(r\"(.+?) tại\", level_4_title)\n",
    "                    type_estate = match.group(1) if match else \"\"\n",
    "                    property_details['type_estate'] = type_estate\n",
    "\n",
    "                level_3_link = breadcrumb.find('a', {'level': '3'})\n",
    "                if level_3_link:\n",
    "                    property_details['district'] = level_3_link.text\n",
    "            else:\n",
    "                print(f\"Breadcrumb not found for URL: {url}\")\n",
    "        except AttributeError as e:\n",
    "            print(f\"Error extracting type_estate and district: {e}\")\n",
    "\n",
    "        # Extract price per square meter\n",
    "        try:\n",
    "            price_per_sqm_span = soup.find('span', class_='ext')\n",
    "            if price_per_sqm_span:\n",
    "                property_details['price_per_sqm'] = price_per_sqm_span.text.strip()\n",
    "        except AttributeError as e:\n",
    "            print(f\"Error extracting price_per_sqm: {e}\")\n",
    "\n",
    "        # Extract posted date\n",
    "        try:\n",
    "            posted_date_span = soup.find('span', string='Ngày đăng')\n",
    "            if posted_date_span:\n",
    "                property_details['posted_date'] = posted_date_span.find_next_sibling('span').text.strip()\n",
    "        except AttributeError as e:\n",
    "            print(f\"Error extracting posted_date: {e}\")\n",
    "\n",
    "        # Extract property specifications\n",
    "        try:\n",
    "            specs_content = soup.find_all('div', class_='re__pr-specs-content-item')\n",
    "            # Mapping of titles to corresponding keys in property_details\n",
    "            title_map = {\n",
    "                'Diện tích': 'area',\n",
    "                'Mức giá': 'price',\n",
    "                'Pháp lý': 'legal_document',\n",
    "                'Nội thất': 'interior',\n",
    "                'Số phòng ngủ': 'num_bedrooms',\n",
    "                'Số toilet': 'num_bathrooms',\n",
    "                'Số tầng': 'num_floors',\n",
    "                'Hướng nhà': 'house_orientation',\n",
    "                'Hướng ban công': 'balcony_orientation',\n",
    "                'Đường vào': 'entrance',\n",
    "                'Mặt tiền': 'frontage'\n",
    "            }\n",
    "\n",
    "            # Extract and map property details\n",
    "            for item in specs_content:\n",
    "                title = item.find(class_='re__pr-specs-content-item-title').text.strip()\n",
    "                if title in title_map:\n",
    "                    property_details[title_map[title]] = item.find(class_='re__pr-specs-content-item-value').text.strip()\n",
    "        except AttributeError as e:\n",
    "            print(f\"Error extracting property details: {e}\")\n",
    "        \n",
    "    except Exception as e:\n",
    "        print(f\"Failed to extract data from {url}: {e}\")\n",
    "\n",
    "    return property_details\n",
    "\n",
    "def scrape_property_details(urls):\n",
    "    scraped_properties = []\n",
    "    with ThreadPoolExecutor(max_workers=3) as executor:\n",
    "        futures = {executor.submit(extract_property_details, url): url for url in urls}\n",
    "        try:\n",
    "            for future in as_completed(futures):\n",
    "                url = futures[future]\n",
    "                try:\n",
    "                    result = future.result()\n",
    "                    print(result)  # Print the extracted details\n",
    "                    scraped_properties.append(result)\n",
    "                except Exception as e:\n",
    "                    print(f\"Failed to extract data from {url}: {e}\")\n",
    "        except KeyboardInterrupt:\n",
    "            for f in futures:\n",
    "                f.cancel()\n",
    "            raise\n",
    "\n",
    "    return scraped_properties\n",
    "\n",
    "LIST_PRODUCT = scrape_property_details(LIST_LINK_PRODUCT)\n",
    "print(LIST_PRODUCT)"
   ]
  },
  {
   "cell_type": "code",
   "execution_count": 13,
   "metadata": {},
   "outputs": [
    {
     "name": "stdout",
     "output_type": "stream",
     "text": [
      "8002\n"
     ]
    }
   ],
   "source": [
    "print(len(LIST_PRODUCT))"
   ]
  },
  {
   "cell_type": "code",
   "execution_count": 17,
   "metadata": {},
   "outputs": [],
   "source": [
    "df_link_product = pd.DataFrame(LIST_PRODUCT)\n",
    "df_link_product.to_csv('data/raw_data_1.csv', index=False)"
   ]
  },
  {
   "cell_type": "code",
   "execution_count": 15,
   "metadata": {},
   "outputs": [
    {
     "ename": "KeyError",
     "evalue": "\"['link', 'describe'] not found in axis\"",
     "output_type": "error",
     "traceback": [
      "\u001b[0;31m---------------------------------------------------------------------------\u001b[0m",
      "\u001b[0;31mKeyError\u001b[0m                                  Traceback (most recent call last)",
      "Cell \u001b[0;32mIn[15], line 5\u001b[0m\n\u001b[1;32m      2\u001b[0m df \u001b[38;5;241m=\u001b[39m pd\u001b[38;5;241m.\u001b[39mread_csv(\u001b[38;5;124m\"\u001b[39m\u001b[38;5;124mdata/raw_data.csv\u001b[39m\u001b[38;5;124m\"\u001b[39m)\n\u001b[1;32m      4\u001b[0m \u001b[38;5;66;03m# Drop the 'link' and 'describe' columns\u001b[39;00m\n\u001b[0;32m----> 5\u001b[0m \u001b[43mdf\u001b[49m\u001b[38;5;241;43m.\u001b[39;49m\u001b[43mdrop\u001b[49m\u001b[43m(\u001b[49m\u001b[43m[\u001b[49m\u001b[38;5;124;43m'\u001b[39;49m\u001b[38;5;124;43mlink\u001b[39;49m\u001b[38;5;124;43m'\u001b[39;49m\u001b[43m,\u001b[49m\u001b[43m \u001b[49m\u001b[38;5;124;43m'\u001b[39;49m\u001b[38;5;124;43mdescribe\u001b[39;49m\u001b[38;5;124;43m'\u001b[39;49m\u001b[43m]\u001b[49m\u001b[43m,\u001b[49m\u001b[43m \u001b[49m\u001b[43maxis\u001b[49m\u001b[38;5;241;43m=\u001b[39;49m\u001b[38;5;241;43m1\u001b[39;49m\u001b[43m,\u001b[49m\u001b[43m \u001b[49m\u001b[43minplace\u001b[49m\u001b[38;5;241;43m=\u001b[39;49m\u001b[38;5;28;43;01mTrue\u001b[39;49;00m\u001b[43m)\u001b[49m\n\u001b[1;32m      7\u001b[0m \u001b[38;5;66;03m# Save the modified DataFrame back to a CSV file\u001b[39;00m\n\u001b[1;32m      8\u001b[0m df\u001b[38;5;241m.\u001b[39mto_csv(\u001b[38;5;124m\"\u001b[39m\u001b[38;5;124mdata/raw_data.csv\u001b[39m\u001b[38;5;124m\"\u001b[39m, index\u001b[38;5;241m=\u001b[39m\u001b[38;5;28;01mFalse\u001b[39;00m)\n",
      "File \u001b[0;32m/opt/homebrew/lib/python3.11/site-packages/pandas/core/frame.py:5581\u001b[0m, in \u001b[0;36mDataFrame.drop\u001b[0;34m(self, labels, axis, index, columns, level, inplace, errors)\u001b[0m\n\u001b[1;32m   5433\u001b[0m \u001b[38;5;28;01mdef\u001b[39;00m \u001b[38;5;21mdrop\u001b[39m(\n\u001b[1;32m   5434\u001b[0m     \u001b[38;5;28mself\u001b[39m,\n\u001b[1;32m   5435\u001b[0m     labels: IndexLabel \u001b[38;5;241m|\u001b[39m \u001b[38;5;28;01mNone\u001b[39;00m \u001b[38;5;241m=\u001b[39m \u001b[38;5;28;01mNone\u001b[39;00m,\n\u001b[0;32m   (...)\u001b[0m\n\u001b[1;32m   5442\u001b[0m     errors: IgnoreRaise \u001b[38;5;241m=\u001b[39m \u001b[38;5;124m\"\u001b[39m\u001b[38;5;124mraise\u001b[39m\u001b[38;5;124m\"\u001b[39m,\n\u001b[1;32m   5443\u001b[0m ) \u001b[38;5;241m-\u001b[39m\u001b[38;5;241m>\u001b[39m DataFrame \u001b[38;5;241m|\u001b[39m \u001b[38;5;28;01mNone\u001b[39;00m:\n\u001b[1;32m   5444\u001b[0m \u001b[38;5;250m    \u001b[39m\u001b[38;5;124;03m\"\"\"\u001b[39;00m\n\u001b[1;32m   5445\u001b[0m \u001b[38;5;124;03m    Drop specified labels from rows or columns.\u001b[39;00m\n\u001b[1;32m   5446\u001b[0m \n\u001b[0;32m   (...)\u001b[0m\n\u001b[1;32m   5579\u001b[0m \u001b[38;5;124;03m            weight  1.0     0.8\u001b[39;00m\n\u001b[1;32m   5580\u001b[0m \u001b[38;5;124;03m    \"\"\"\u001b[39;00m\n\u001b[0;32m-> 5581\u001b[0m     \u001b[38;5;28;01mreturn\u001b[39;00m \u001b[38;5;28;43msuper\u001b[39;49m\u001b[43m(\u001b[49m\u001b[43m)\u001b[49m\u001b[38;5;241;43m.\u001b[39;49m\u001b[43mdrop\u001b[49m\u001b[43m(\u001b[49m\n\u001b[1;32m   5582\u001b[0m \u001b[43m        \u001b[49m\u001b[43mlabels\u001b[49m\u001b[38;5;241;43m=\u001b[39;49m\u001b[43mlabels\u001b[49m\u001b[43m,\u001b[49m\n\u001b[1;32m   5583\u001b[0m \u001b[43m        \u001b[49m\u001b[43maxis\u001b[49m\u001b[38;5;241;43m=\u001b[39;49m\u001b[43maxis\u001b[49m\u001b[43m,\u001b[49m\n\u001b[1;32m   5584\u001b[0m \u001b[43m        \u001b[49m\u001b[43mindex\u001b[49m\u001b[38;5;241;43m=\u001b[39;49m\u001b[43mindex\u001b[49m\u001b[43m,\u001b[49m\n\u001b[1;32m   5585\u001b[0m \u001b[43m        \u001b[49m\u001b[43mcolumns\u001b[49m\u001b[38;5;241;43m=\u001b[39;49m\u001b[43mcolumns\u001b[49m\u001b[43m,\u001b[49m\n\u001b[1;32m   5586\u001b[0m \u001b[43m        \u001b[49m\u001b[43mlevel\u001b[49m\u001b[38;5;241;43m=\u001b[39;49m\u001b[43mlevel\u001b[49m\u001b[43m,\u001b[49m\n\u001b[1;32m   5587\u001b[0m \u001b[43m        \u001b[49m\u001b[43minplace\u001b[49m\u001b[38;5;241;43m=\u001b[39;49m\u001b[43minplace\u001b[49m\u001b[43m,\u001b[49m\n\u001b[1;32m   5588\u001b[0m \u001b[43m        \u001b[49m\u001b[43merrors\u001b[49m\u001b[38;5;241;43m=\u001b[39;49m\u001b[43merrors\u001b[49m\u001b[43m,\u001b[49m\n\u001b[1;32m   5589\u001b[0m \u001b[43m    \u001b[49m\u001b[43m)\u001b[49m\n",
      "File \u001b[0;32m/opt/homebrew/lib/python3.11/site-packages/pandas/core/generic.py:4788\u001b[0m, in \u001b[0;36mNDFrame.drop\u001b[0;34m(self, labels, axis, index, columns, level, inplace, errors)\u001b[0m\n\u001b[1;32m   4786\u001b[0m \u001b[38;5;28;01mfor\u001b[39;00m axis, labels \u001b[38;5;129;01min\u001b[39;00m axes\u001b[38;5;241m.\u001b[39mitems():\n\u001b[1;32m   4787\u001b[0m     \u001b[38;5;28;01mif\u001b[39;00m labels \u001b[38;5;129;01mis\u001b[39;00m \u001b[38;5;129;01mnot\u001b[39;00m \u001b[38;5;28;01mNone\u001b[39;00m:\n\u001b[0;32m-> 4788\u001b[0m         obj \u001b[38;5;241m=\u001b[39m \u001b[43mobj\u001b[49m\u001b[38;5;241;43m.\u001b[39;49m\u001b[43m_drop_axis\u001b[49m\u001b[43m(\u001b[49m\u001b[43mlabels\u001b[49m\u001b[43m,\u001b[49m\u001b[43m \u001b[49m\u001b[43maxis\u001b[49m\u001b[43m,\u001b[49m\u001b[43m \u001b[49m\u001b[43mlevel\u001b[49m\u001b[38;5;241;43m=\u001b[39;49m\u001b[43mlevel\u001b[49m\u001b[43m,\u001b[49m\u001b[43m \u001b[49m\u001b[43merrors\u001b[49m\u001b[38;5;241;43m=\u001b[39;49m\u001b[43merrors\u001b[49m\u001b[43m)\u001b[49m\n\u001b[1;32m   4790\u001b[0m \u001b[38;5;28;01mif\u001b[39;00m inplace:\n\u001b[1;32m   4791\u001b[0m     \u001b[38;5;28mself\u001b[39m\u001b[38;5;241m.\u001b[39m_update_inplace(obj)\n",
      "File \u001b[0;32m/opt/homebrew/lib/python3.11/site-packages/pandas/core/generic.py:4830\u001b[0m, in \u001b[0;36mNDFrame._drop_axis\u001b[0;34m(self, labels, axis, level, errors, only_slice)\u001b[0m\n\u001b[1;32m   4828\u001b[0m         new_axis \u001b[38;5;241m=\u001b[39m axis\u001b[38;5;241m.\u001b[39mdrop(labels, level\u001b[38;5;241m=\u001b[39mlevel, errors\u001b[38;5;241m=\u001b[39merrors)\n\u001b[1;32m   4829\u001b[0m     \u001b[38;5;28;01melse\u001b[39;00m:\n\u001b[0;32m-> 4830\u001b[0m         new_axis \u001b[38;5;241m=\u001b[39m \u001b[43maxis\u001b[49m\u001b[38;5;241;43m.\u001b[39;49m\u001b[43mdrop\u001b[49m\u001b[43m(\u001b[49m\u001b[43mlabels\u001b[49m\u001b[43m,\u001b[49m\u001b[43m \u001b[49m\u001b[43merrors\u001b[49m\u001b[38;5;241;43m=\u001b[39;49m\u001b[43merrors\u001b[49m\u001b[43m)\u001b[49m\n\u001b[1;32m   4831\u001b[0m     indexer \u001b[38;5;241m=\u001b[39m axis\u001b[38;5;241m.\u001b[39mget_indexer(new_axis)\n\u001b[1;32m   4833\u001b[0m \u001b[38;5;66;03m# Case for non-unique axis\u001b[39;00m\n\u001b[1;32m   4834\u001b[0m \u001b[38;5;28;01melse\u001b[39;00m:\n",
      "File \u001b[0;32m/opt/homebrew/lib/python3.11/site-packages/pandas/core/indexes/base.py:7070\u001b[0m, in \u001b[0;36mIndex.drop\u001b[0;34m(self, labels, errors)\u001b[0m\n\u001b[1;32m   7068\u001b[0m \u001b[38;5;28;01mif\u001b[39;00m mask\u001b[38;5;241m.\u001b[39many():\n\u001b[1;32m   7069\u001b[0m     \u001b[38;5;28;01mif\u001b[39;00m errors \u001b[38;5;241m!=\u001b[39m \u001b[38;5;124m\"\u001b[39m\u001b[38;5;124mignore\u001b[39m\u001b[38;5;124m\"\u001b[39m:\n\u001b[0;32m-> 7070\u001b[0m         \u001b[38;5;28;01mraise\u001b[39;00m \u001b[38;5;167;01mKeyError\u001b[39;00m(\u001b[38;5;124mf\u001b[39m\u001b[38;5;124m\"\u001b[39m\u001b[38;5;132;01m{\u001b[39;00mlabels[mask]\u001b[38;5;241m.\u001b[39mtolist()\u001b[38;5;132;01m}\u001b[39;00m\u001b[38;5;124m not found in axis\u001b[39m\u001b[38;5;124m\"\u001b[39m)\n\u001b[1;32m   7071\u001b[0m     indexer \u001b[38;5;241m=\u001b[39m indexer[\u001b[38;5;241m~\u001b[39mmask]\n\u001b[1;32m   7072\u001b[0m \u001b[38;5;28;01mreturn\u001b[39;00m \u001b[38;5;28mself\u001b[39m\u001b[38;5;241m.\u001b[39mdelete(indexer)\n",
      "\u001b[0;31mKeyError\u001b[0m: \"['link', 'describe'] not found in axis\""
     ]
    }
   ],
   "source": [
    "# Read the CSV file into a pandas DataFrame\n",
    "df = pd.read_csv(\"data/raw_data.csv\")\n",
    "\n",
    "# Drop the 'link' and 'describe' columns\n",
    "df.drop(['link', 'describe'], axis=1, inplace=True)\n",
    "\n",
    "# Save the modified DataFrame back to a CSV file\n",
    "df.to_csv(\"data/raw_data.csv\", index=False)"
   ]
  },
  {
   "cell_type": "code",
   "execution_count": 16,
   "metadata": {},
   "outputs": [
    {
     "name": "stdout",
     "output_type": "stream",
     "text": [
      "<class 'pandas.core.frame.DataFrame'>\n",
      "RangeIndex: 8002 entries, 0 to 8001\n",
      "Data columns (total 16 columns):\n",
      " #   Column               Non-Null Count  Dtype \n",
      "---  ------               --------------  ----- \n",
      " 0   Unnamed: 0           8002 non-null   int64 \n",
      " 1   type_estate          7321 non-null   object\n",
      " 2   district             7321 non-null   object\n",
      " 3   price_per_sqm        6541 non-null   object\n",
      " 4   posted_date          7314 non-null   object\n",
      " 5   area                 7314 non-null   object\n",
      " 6   price                7314 non-null   object\n",
      " 7   legal_document       6415 non-null   object\n",
      " 8   interior             4499 non-null   object\n",
      " 9   num_bedrooms         5155 non-null   object\n",
      " 10  num_bathrooms        4628 non-null   object\n",
      " 11  num_floors           6456 non-null   object\n",
      " 12  house_orientation    1545 non-null   object\n",
      " 13  balcony_orientation  980 non-null    object\n",
      " 14  entrance             3553 non-null   object\n",
      " 15  frontage             5024 non-null   object\n",
      "dtypes: int64(1), object(15)\n",
      "memory usage: 1000.4+ KB\n"
     ]
    }
   ],
   "source": [
    "df = pd.read_csv('data/raw_data_1.csv')\n",
    "df.info()"
   ]
  }
 ],
 "metadata": {
  "kernelspec": {
   "display_name": "env",
   "language": "python",
   "name": "python3"
  },
  "language_info": {
   "codemirror_mode": {
    "name": "ipython",
    "version": 3
   },
   "file_extension": ".py",
   "mimetype": "text/x-python",
   "name": "python",
   "nbconvert_exporter": "python",
   "pygments_lexer": "ipython3",
   "version": "3.11.7"
  }
 },
 "nbformat": 4,
 "nbformat_minor": 2
}
