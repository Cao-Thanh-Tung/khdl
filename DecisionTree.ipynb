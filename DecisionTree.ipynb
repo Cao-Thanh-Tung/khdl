{
 "cells": [
  {
   "cell_type": "code",
   "execution_count": 1,
   "metadata": {},
   "outputs": [],
   "source": [
    "import os\n",
    "import csv\n",
    "import re\n",
    "import json\n",
    "from datetime import datetime\n",
    "import seaborn as sns"
   ]
  },
  {
   "cell_type": "code",
   "execution_count": 2,
   "metadata": {},
   "outputs": [],
   "source": [
    "import numpy as np\n",
    "import keras\n",
    "from keras import backend as K\n",
    "from keras.models import Sequential\n",
    "from keras.models import Model\n",
    "from keras.layers import Activation\n",
    "from keras.layers import Dense, Flatten\n",
    "from keras.optimizers import Adam\n",
    "from keras.metrics import categorical_crossentropy\n",
    "from tensorflow.keras.preprocessing.image import ImageDataGenerator\n",
    "from tensorflow.keras.layers import BatchNormalization\n",
    "from tensorflow.keras.layers import Dropout\n",
    "from tensorflow.keras.layers import *\n",
    "from keras.callbacks import ModelCheckpoint\n",
    "from tensorflow.keras.applications.inception_v3 import InceptionV3\n",
    "from tensorflow.keras.applications.efficientnet import EfficientNetB7\n",
    "from tensorflow.keras.applications.inception_v3 import preprocess_input\n",
    "from tensorflow.keras.applications.inception_v3 import decode_predictions\n",
    "from sklearn.metrics import confusion_matrix\n",
    "from sklearn.metrics import average_precision_score\n",
    "from sklearn.metrics import recall_score\n",
    "from sklearn.metrics import precision_score\n",
    "from sklearn.metrics import accuracy_score\n",
    "from sklearn.metrics import classification_report\n",
    "from keras.models import model_from_json\n",
    "import itertools\n",
    "import matplotlib.pyplot as plt\n",
    "import time\n",
    "import pandas as pd\n",
    "%matplotlib inline"
   ]
  },
  {
   "cell_type": "code",
   "execution_count": 3,
   "metadata": {},
   "outputs": [],
   "source": [
    "from sklearn.model_selection import train_test_split"
   ]
  },
  {
   "cell_type": "code",
   "execution_count": 4,
   "metadata": {},
   "outputs": [
    {
     "name": "stdout",
     "output_type": "stream",
     "text": [
      "      pr_id  type_estate  district posted_date  area         price  \\\n",
      "0  39815613            2         4  2024-05-10  65.0  1.450000e+10   \n",
      "1  39745141            2        26  2024-05-13  50.0  7.850000e+09   \n",
      "2  39840861            2         4  2024-05-13  45.0  1.350000e+10   \n",
      "3  39162804            2         1  2024-05-13  66.0  1.560000e+10   \n",
      "4  30881356            2        10  2024-05-13  50.0  8.500000e+09   \n",
      "\n",
      "   legal_document  interior  num_bedrooms  num_bathrooms  num_floors  \\\n",
      "0               2         3            -1             -1           8   \n",
      "1               2         0             6              4           5   \n",
      "2               2         1             3             -1           5   \n",
      "3               2         0            20             21           9   \n",
      "4               2         3             4              5           5   \n",
      "\n",
      "   entrance  frontage  price_per_sqm  \n",
      "0      -1.0       5.4    223076923.0  \n",
      "1      -1.0      -1.0    157000000.0  \n",
      "2      -1.0      -1.0    300000000.0  \n",
      "3      -1.0      -1.0    236363636.0  \n",
      "4       4.0       3.4    170000000.0  \n"
     ]
    }
   ],
   "source": [
    "clean_dataDirectory = \"data/results/cleaned_data.csv\"\n",
    "standard_dataDirectory = \"data/results/standardized_data.csv\"\n",
    "data = pd.read_csv(standard_dataDirectory)\n",
    "# print(data.head(5))"
   ]
  },
  {
   "cell_type": "code",
   "execution_count": 5,
   "metadata": {},
   "outputs": [
    {
     "name": "stdout",
     "output_type": "stream",
     "text": [
      "0         5\n",
      "1         6\n",
      "2         3\n",
      "3        20\n",
      "4         4\n",
      "         ..\n",
      "14605     6\n",
      "14606     4\n",
      "14607    10\n",
      "14608    10\n",
      "14609     6\n",
      "Name: num_bedrooms, Length: 14610, dtype: int64\n"
     ]
    }
   ],
   "source": [
    "collum_list = data['num_bedrooms'][data['num_bedrooms'] >= 0]\n",
    "# print(collum_list.mean())\n",
    "data['num_bedrooms'] = data['num_bedrooms'].apply(lambda x: int(collum_list.mean()) if x < 0 else x)\n",
    "print(data['num_bedrooms'])"
   ]
  },
  {
   "cell_type": "code",
   "execution_count": 6,
   "metadata": {},
   "outputs": [
    {
     "name": "stdout",
     "output_type": "stream",
     "text": [
      "0         5\n",
      "1         4\n",
      "2         5\n",
      "3        21\n",
      "4         5\n",
      "         ..\n",
      "14605     6\n",
      "14606     3\n",
      "14607     9\n",
      "14608     5\n",
      "14609     6\n",
      "Name: num_bathrooms, Length: 14610, dtype: int64\n"
     ]
    }
   ],
   "source": [
    "collum_list = data['num_bathrooms'][data['num_bathrooms'] >= 0]\n",
    "# print(collum_list.mean())\n",
    "data['num_bathrooms'] = data['num_bathrooms'].apply(lambda x: int(collum_list.mean()) if x < 0 else x)\n",
    "print(data['num_bathrooms'])"
   ]
  },
  {
   "cell_type": "code",
   "execution_count": 7,
   "metadata": {},
   "outputs": [
    {
     "name": "stdout",
     "output_type": "stream",
     "text": [
      "0        8\n",
      "1        5\n",
      "2        5\n",
      "3        9\n",
      "4        5\n",
      "        ..\n",
      "14605    6\n",
      "14606    4\n",
      "14607    6\n",
      "14608    7\n",
      "14609    5\n",
      "Name: num_floors, Length: 14610, dtype: int64\n"
     ]
    }
   ],
   "source": [
    "collum_list = data['num_floors'][data['num_floors'] >= 0]\n",
    "# print(collum_list.mean())\n",
    "data['num_floors'] = data['num_floors'].apply(lambda x: int(collum_list.mean()) if x < 0 else x)\n",
    "print(data['num_floors'])"
   ]
  },
  {
   "cell_type": "code",
   "execution_count": 8,
   "metadata": {},
   "outputs": [
    {
     "name": "stdout",
     "output_type": "stream",
     "text": [
      "0        10.0\n",
      "1        10.0\n",
      "2        10.0\n",
      "3        10.0\n",
      "4         4.0\n",
      "         ... \n",
      "14605     5.0\n",
      "14606     3.0\n",
      "14607     2.0\n",
      "14608    40.0\n",
      "14609     8.0\n",
      "Name: entrance, Length: 14610, dtype: float64\n"
     ]
    }
   ],
   "source": [
    "collum_list = data['entrance'][data['entrance'] >= 0]\n",
    "# print(collum_list.mean())\n",
    "data['entrance'] = data['entrance'].apply(lambda x: int(collum_list.mean()) if x < 0 else x)\n",
    "print(data['entrance'])"
   ]
  },
  {
   "cell_type": "code",
   "execution_count": 9,
   "metadata": {},
   "outputs": [
    {
     "name": "stdout",
     "output_type": "stream",
     "text": [
      "0         5.4\n",
      "1         6.0\n",
      "2         6.0\n",
      "3         6.0\n",
      "4         3.4\n",
      "         ... \n",
      "14605     3.8\n",
      "14606     5.5\n",
      "14607     3.5\n",
      "14608    15.0\n",
      "14609     5.2\n",
      "Name: frontage, Length: 14610, dtype: float64\n"
     ]
    }
   ],
   "source": [
    "collum_list = data['frontage'][data['frontage'] >= 0]\n",
    "# print(collum_list.mean())\n",
    "data['frontage'] = data['frontage'].apply(lambda x: int(collum_list.mean()) if x < 0 else x)\n",
    "print(data['frontage'])"
   ]
  },
  {
   "cell_type": "code",
   "execution_count": 11,
   "metadata": {},
   "outputs": [
    {
     "data": {
      "image/png": "[encoded data removed]",
      "text/plain": [
       "<Figure size 500x500 with 1 Axes>"
      ]
     },
     "metadata": {},
     "output_type": "display_data"
    }
   ],
   "source": [
    "sns.displot(np.log(data['price']))\n",
    "data['log_price'] = np.log(data['price'])\n"
   ]
  },
  {
   "cell_type": "code",
   "execution_count": 12,
   "metadata": {},
   "outputs": [],
   "source": [
    "clean_train_data = data.drop(['price', 'price_per_sqm', 'log_price'], axis=1)\n",
    "clean_train_label = data['log_price']\n",
    "train_data, train_label, test_data, test_label = train_test_split(clean_train_data, clean_train_label, test_size=0.2, random_state=42)"
   ]
  },
  {
   "cell_type": "code",
   "execution_count": 13,
   "metadata": {},
   "outputs": [
    {
     "data": {
      "text/html": [
       "<div>\n",
       "<style scoped>\n",
       "    .dataframe tbody tr th:only-of-type {\n",
       "        vertical-align: middle;\n",
       "    }\n",
       "\n",
       "    .dataframe tbody tr th {\n",
       "        vertical-align: top;\n",
       "    }\n",
       "\n",
       "    .dataframe thead th {\n",
       "        text-align: right;\n",
       "    }\n",
       "</style>\n",
       "<table border=\"1\" class=\"dataframe\">\n",
       "  <thead>\n",
       "    <tr style=\"text-align: right;\">\n",
       "      <th></th>\n",
       "      <th>pr_id</th>\n",
       "      <th>type_estate</th>\n",
       "      <th>district</th>\n",
       "      <th>posted_date</th>\n",
       "      <th>area</th>\n",
       "      <th>legal_document</th>\n",
       "      <th>interior</th>\n",
       "      <th>num_bedrooms</th>\n",
       "      <th>num_bathrooms</th>\n",
       "      <th>num_floors</th>\n",
       "      <th>entrance</th>\n",
       "      <th>frontage</th>\n",
       "    </tr>\n",
       "  </thead>\n",
       "  <tbody>\n",
       "    <tr>\n",
       "      <th>13784</th>\n",
       "      <td>39833228</td>\n",
       "      <td>1</td>\n",
       "      <td>4</td>\n",
       "      <td>2024-05-13</td>\n",
       "      <td>55.0</td>\n",
       "      <td>2</td>\n",
       "      <td>1</td>\n",
       "      <td>5</td>\n",
       "      <td>5</td>\n",
       "      <td>5</td>\n",
       "      <td>10.0</td>\n",
       "      <td>6.0</td>\n",
       "    </tr>\n",
       "    <tr>\n",
       "      <th>1369</th>\n",
       "      <td>39835594</td>\n",
       "      <td>2</td>\n",
       "      <td>12</td>\n",
       "      <td>2024-05-13</td>\n",
       "      <td>30.0</td>\n",
       "      <td>2</td>\n",
       "      <td>3</td>\n",
       "      <td>3</td>\n",
       "      <td>4</td>\n",
       "      <td>5</td>\n",
       "      <td>10.0</td>\n",
       "      <td>6.0</td>\n",
       "    </tr>\n",
       "    <tr>\n",
       "      <th>740</th>\n",
       "      <td>39787482</td>\n",
       "      <td>2</td>\n",
       "      <td>26</td>\n",
       "      <td>2024-05-08</td>\n",
       "      <td>54.0</td>\n",
       "      <td>2</td>\n",
       "      <td>1</td>\n",
       "      <td>5</td>\n",
       "      <td>4</td>\n",
       "      <td>4</td>\n",
       "      <td>10.0</td>\n",
       "      <td>6.0</td>\n",
       "    </tr>\n",
       "    <tr>\n",
       "      <th>8401</th>\n",
       "      <td>38477510</td>\n",
       "      <td>0</td>\n",
       "      <td>4</td>\n",
       "      <td>2024-05-14</td>\n",
       "      <td>80.0</td>\n",
       "      <td>2</td>\n",
       "      <td>1</td>\n",
       "      <td>5</td>\n",
       "      <td>5</td>\n",
       "      <td>5</td>\n",
       "      <td>10.0</td>\n",
       "      <td>6.0</td>\n",
       "    </tr>\n",
       "    <tr>\n",
       "      <th>3509</th>\n",
       "      <td>39829557</td>\n",
       "      <td>2</td>\n",
       "      <td>23</td>\n",
       "      <td>2024-05-12</td>\n",
       "      <td>46.0</td>\n",
       "      <td>1</td>\n",
       "      <td>1</td>\n",
       "      <td>4</td>\n",
       "      <td>5</td>\n",
       "      <td>6</td>\n",
       "      <td>4.0</td>\n",
       "      <td>6.0</td>\n",
       "    </tr>\n",
       "    <tr>\n",
       "      <th>...</th>\n",
       "      <td>...</td>\n",
       "      <td>...</td>\n",
       "      <td>...</td>\n",
       "      <td>...</td>\n",
       "      <td>...</td>\n",
       "      <td>...</td>\n",
       "      <td>...</td>\n",
       "      <td>...</td>\n",
       "      <td>...</td>\n",
       "      <td>...</td>\n",
       "      <td>...</td>\n",
       "      <td>...</td>\n",
       "    </tr>\n",
       "    <tr>\n",
       "      <th>5191</th>\n",
       "      <td>39777524</td>\n",
       "      <td>2</td>\n",
       "      <td>4</td>\n",
       "      <td>2024-05-07</td>\n",
       "      <td>48.8</td>\n",
       "      <td>2</td>\n",
       "      <td>1</td>\n",
       "      <td>5</td>\n",
       "      <td>5</td>\n",
       "      <td>5</td>\n",
       "      <td>10.0</td>\n",
       "      <td>4.1</td>\n",
       "    </tr>\n",
       "    <tr>\n",
       "      <th>13418</th>\n",
       "      <td>39827230</td>\n",
       "      <td>1</td>\n",
       "      <td>12</td>\n",
       "      <td>2024-05-12</td>\n",
       "      <td>100.0</td>\n",
       "      <td>2</td>\n",
       "      <td>0</td>\n",
       "      <td>3</td>\n",
       "      <td>3</td>\n",
       "      <td>3</td>\n",
       "      <td>12.0</td>\n",
       "      <td>4.5</td>\n",
       "    </tr>\n",
       "    <tr>\n",
       "      <th>5390</th>\n",
       "      <td>39821299</td>\n",
       "      <td>2</td>\n",
       "      <td>23</td>\n",
       "      <td>2024-05-11</td>\n",
       "      <td>36.0</td>\n",
       "      <td>2</td>\n",
       "      <td>3</td>\n",
       "      <td>4</td>\n",
       "      <td>4</td>\n",
       "      <td>5</td>\n",
       "      <td>3.0</td>\n",
       "      <td>3.4</td>\n",
       "    </tr>\n",
       "    <tr>\n",
       "      <th>860</th>\n",
       "      <td>39540606</td>\n",
       "      <td>2</td>\n",
       "      <td>8</td>\n",
       "      <td>2024-05-13</td>\n",
       "      <td>32.0</td>\n",
       "      <td>1</td>\n",
       "      <td>3</td>\n",
       "      <td>3</td>\n",
       "      <td>5</td>\n",
       "      <td>5</td>\n",
       "      <td>10.0</td>\n",
       "      <td>6.0</td>\n",
       "    </tr>\n",
       "    <tr>\n",
       "      <th>7270</th>\n",
       "      <td>39852417</td>\n",
       "      <td>0</td>\n",
       "      <td>8</td>\n",
       "      <td>2024-05-15</td>\n",
       "      <td>290.0</td>\n",
       "      <td>2</td>\n",
       "      <td>3</td>\n",
       "      <td>6</td>\n",
       "      <td>8</td>\n",
       "      <td>5</td>\n",
       "      <td>13.0</td>\n",
       "      <td>13.5</td>\n",
       "    </tr>\n",
       "  </tbody>\n",
       "</table>\n",
       "<p>11688 rows × 12 columns</p>\n",
       "</div>"
      ],
      "text/plain": [
       "          pr_id  type_estate  district posted_date   area  legal_document  \\\n",
       "13784  39833228            1         4  2024-05-13   55.0               2   \n",
       "1369   39835594            2        12  2024-05-13   30.0               2   \n",
       "740    39787482            2        26  2024-05-08   54.0               2   \n",
       "8401   38477510            0         4  2024-05-14   80.0               2   \n",
       "3509   39829557            2        23  2024-05-12   46.0               1   \n",
       "...         ...          ...       ...         ...    ...             ...   \n",
       "5191   39777524            2         4  2024-05-07   48.8               2   \n",
       "13418  39827230            1        12  2024-05-12  100.0               2   \n",
       "5390   39821299            2        23  2024-05-11   36.0               2   \n",
       "860    39540606            2         8  2024-05-13   32.0               1   \n",
       "7270   39852417            0         8  2024-05-15  290.0               2   \n",
       "\n",
       "       interior  num_bedrooms  num_bathrooms  num_floors  entrance  frontage  \n",
       "13784         1             5              5           5      10.0       6.0  \n",
       "1369          3             3              4           5      10.0       6.0  \n",
       "740           1             5              4           4      10.0       6.0  \n",
       "8401          1             5              5           5      10.0       6.0  \n",
       "3509          1             4              5           6       4.0       6.0  \n",
       "...         ...           ...            ...         ...       ...       ...  \n",
       "5191          1             5              5           5      10.0       4.1  \n",
       "13418         0             3              3           3      12.0       4.5  \n",
       "5390          3             4              4           5       3.0       3.4  \n",
       "860           3             3              5           5      10.0       6.0  \n",
       "7270          3             6              8           5      13.0      13.5  \n",
       "\n",
       "[11688 rows x 12 columns]"
      ]
     },
     "execution_count": 13,
     "metadata": {},
     "output_type": "execute_result"
    }
   ],
   "source": [
    "train_data"
   ]
  }
 ],
 "metadata": {
  "kernelspec": {
   "display_name": "ML",
   "language": "python",
   "name": "python3"
  },
  "language_info": {
   "codemirror_mode": {
    "name": "ipython",
    "version": 3
   },
   "file_extension": ".py",
   "mimetype": "text/x-python",
   "name": "python",
   "nbconvert_exporter": "python",
   "pygments_lexer": "ipython3",
   "version": "3.10.14"
  }
 },
 "nbformat": 4,
 "nbformat_minor": 2
}
